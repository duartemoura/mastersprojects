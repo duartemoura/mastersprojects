{
  "cells": [
    {
      "cell_type": "markdown",
      "metadata": {
        "id": "view-in-github",
        "colab_type": "text"
      },
      "source": [
        "<a href=\"https://colab.research.google.com/github/duartemoura/mastersprojects/blob/main/STUDENT_Pytorch_Log_Regression.ipynb\" target=\"_parent\"><img src=\"https://colab.research.google.com/assets/colab-badge.svg\" alt=\"Open In Colab\"/></a>"
      ]
    },
    {
      "cell_type": "markdown",
      "metadata": {
        "id": "d5XTbg_f1r_P"
      },
      "source": [
        "# Logistic Regression with Pytorch\n",
        "\n",
        "\n",
        "------------------------------------------------------\n",
        "*Pablo M. Olmos pamartin@ing.uc3m.es*\n",
        "\n",
        "------------------------------------------------------\n",
        "\n",
        "\n",
        "In this lab you will learn basic aspects about how to use [Pytorch](https://pytorch.org/) to train a logistic regressor in a binary classification problem.\n",
        "\n",
        "Pytorch is a powerful library to address Machine Learning problems in general, and deep learning problems in particular, as it provides with automatic differentiation tools. Namely, in our programs we will define functions $f_{\\mathbf{w}}(x)$ of given input data $x$ and some parameters $\\mathbf{w}$ to be optimized, and we will use Pytorch's [autograd package](https://pytorch.org/docs/stable/autograd.html) to automatically compute $\\nabla_{\\mathbf{w}} f_{\\mathbf{w}}(x)$, and then use the gradient into a Stochastic Gradient Descent (SGD) routine.\n",
        "\n",
        "But lets go step by step. First of all, we will load some database and perform some pre-processing. To do so, we will use the **[Python Data Analysis Library](https://pandas.pydata.org/)** (a.k.a. pandas)."
      ]
    },
    {
      "cell_type": "code",
      "execution_count": 1,
      "metadata": {
        "id": "mZSYOFbX1r_V"
      },
      "outputs": [],
      "source": [
        "import pandas as pd # pd is simply an alias\n",
        "import numpy as np\n",
        "import matplotlib.pyplot as plt\n",
        "\n",
        "%matplotlib inline\n",
        "%config InlineBackend.figure_format = 'retina' #High quality figures"
      ]
    },
    {
      "cell_type": "markdown",
      "metadata": {
        "id": "xh6RdCg-1r_V"
      },
      "source": [
        "## Part I. Pre-processing a real dataset\n",
        "\n",
        "The [Breast Cancer Wisconsin (Diagnostic) Data Set](https://archive.ics.uci.edu/ml/datasets/Breast+Cancer+Wisconsin+(Diagnostic)) contains 10 features related to breast tumors that have been diagnosed as benign or malignant. You have a description of the 10 features in the link above. In the same link you can download the data set as a CSV file.\n",
        "\n",
        "We will import it directly using the following class"
      ]
    },
    {
      "cell_type": "code",
      "execution_count": 2,
      "metadata": {
        "id": "Lca2l9kk1r_W"
      },
      "outputs": [],
      "source": [
        "def load_breast():\n",
        "    data = pd.read_csv('https://archive.ics.uci.edu/ml/machine-learning-databases/breast-cancer-wisconsin/breast-cancer-wisconsin.data',header=None)\n",
        "    data.columns=['ID', 'Clump Thickness', 'Uniformity of Cell Size',\n",
        "       'Uniformity of Cell Shape', 'Marginal Adhesion',\n",
        "       'Single Epithelial Cell Size', 'Bare Nuclei', 'Bland Chromatin',\n",
        "       'Normal Nucleoli', 'Mitoses', 'Class']\n",
        "    return data"
      ]
    },
    {
      "cell_type": "code",
      "execution_count": 3,
      "metadata": {
        "id": "zmDrcmp41r_W"
      },
      "outputs": [],
      "source": [
        "''' Data is stored in a Dataframe, a particular data type implemented in Pandas'''\n",
        "\n",
        "data = load_breast()\n"
      ]
    },
    {
      "cell_type": "markdown",
      "metadata": {
        "id": "JY5t0LHC1r_X"
      },
      "source": [
        "Lets visualize the first 10 entries of the database with the `.head()` method"
      ]
    },
    {
      "cell_type": "code",
      "execution_count": 4,
      "metadata": {
        "id": "_3HUYCYc1r_X",
        "colab": {
          "base_uri": "https://localhost:8080/",
          "height": 383
        },
        "outputId": "521e914b-9850-4942-bede-d3048fe58fd5"
      },
      "outputs": [
        {
          "output_type": "execute_result",
          "data": {
            "text/plain": [
              "        ID  Clump Thickness  Uniformity of Cell Size  \\\n",
              "0  1000025                5                        1   \n",
              "1  1002945                5                        4   \n",
              "2  1015425                3                        1   \n",
              "3  1016277                6                        8   \n",
              "4  1017023                4                        1   \n",
              "5  1017122                8                       10   \n",
              "6  1018099                1                        1   \n",
              "7  1018561                2                        1   \n",
              "8  1033078                2                        1   \n",
              "9  1033078                4                        2   \n",
              "\n",
              "   Uniformity of Cell Shape  Marginal Adhesion  Single Epithelial Cell Size  \\\n",
              "0                         1                  1                            2   \n",
              "1                         4                  5                            7   \n",
              "2                         1                  1                            2   \n",
              "3                         8                  1                            3   \n",
              "4                         1                  3                            2   \n",
              "5                        10                  8                            7   \n",
              "6                         1                  1                            2   \n",
              "7                         2                  1                            2   \n",
              "8                         1                  1                            2   \n",
              "9                         1                  1                            2   \n",
              "\n",
              "  Bare Nuclei  Bland Chromatin  Normal Nucleoli  Mitoses  Class  \n",
              "0           1                3                1        1      2  \n",
              "1          10                3                2        1      2  \n",
              "2           2                3                1        1      2  \n",
              "3           4                3                7        1      2  \n",
              "4           1                3                1        1      2  \n",
              "5          10                9                7        1      4  \n",
              "6          10                3                1        1      2  \n",
              "7           1                3                1        1      2  \n",
              "8           1                1                1        5      2  \n",
              "9           1                2                1        1      2  "
            ],
            "text/html": [
              "\n",
              "  <div id=\"df-2c01dfa5-e73e-4e37-a2a7-f140013d0fd2\" class=\"colab-df-container\">\n",
              "    <div>\n",
              "<style scoped>\n",
              "    .dataframe tbody tr th:only-of-type {\n",
              "        vertical-align: middle;\n",
              "    }\n",
              "\n",
              "    .dataframe tbody tr th {\n",
              "        vertical-align: top;\n",
              "    }\n",
              "\n",
              "    .dataframe thead th {\n",
              "        text-align: right;\n",
              "    }\n",
              "</style>\n",
              "<table border=\"1\" class=\"dataframe\">\n",
              "  <thead>\n",
              "    <tr style=\"text-align: right;\">\n",
              "      <th></th>\n",
              "      <th>ID</th>\n",
              "      <th>Clump Thickness</th>\n",
              "      <th>Uniformity of Cell Size</th>\n",
              "      <th>Uniformity of Cell Shape</th>\n",
              "      <th>Marginal Adhesion</th>\n",
              "      <th>Single Epithelial Cell Size</th>\n",
              "      <th>Bare Nuclei</th>\n",
              "      <th>Bland Chromatin</th>\n",
              "      <th>Normal Nucleoli</th>\n",
              "      <th>Mitoses</th>\n",
              "      <th>Class</th>\n",
              "    </tr>\n",
              "  </thead>\n",
              "  <tbody>\n",
              "    <tr>\n",
              "      <th>0</th>\n",
              "      <td>1000025</td>\n",
              "      <td>5</td>\n",
              "      <td>1</td>\n",
              "      <td>1</td>\n",
              "      <td>1</td>\n",
              "      <td>2</td>\n",
              "      <td>1</td>\n",
              "      <td>3</td>\n",
              "      <td>1</td>\n",
              "      <td>1</td>\n",
              "      <td>2</td>\n",
              "    </tr>\n",
              "    <tr>\n",
              "      <th>1</th>\n",
              "      <td>1002945</td>\n",
              "      <td>5</td>\n",
              "      <td>4</td>\n",
              "      <td>4</td>\n",
              "      <td>5</td>\n",
              "      <td>7</td>\n",
              "      <td>10</td>\n",
              "      <td>3</td>\n",
              "      <td>2</td>\n",
              "      <td>1</td>\n",
              "      <td>2</td>\n",
              "    </tr>\n",
              "    <tr>\n",
              "      <th>2</th>\n",
              "      <td>1015425</td>\n",
              "      <td>3</td>\n",
              "      <td>1</td>\n",
              "      <td>1</td>\n",
              "      <td>1</td>\n",
              "      <td>2</td>\n",
              "      <td>2</td>\n",
              "      <td>3</td>\n",
              "      <td>1</td>\n",
              "      <td>1</td>\n",
              "      <td>2</td>\n",
              "    </tr>\n",
              "    <tr>\n",
              "      <th>3</th>\n",
              "      <td>1016277</td>\n",
              "      <td>6</td>\n",
              "      <td>8</td>\n",
              "      <td>8</td>\n",
              "      <td>1</td>\n",
              "      <td>3</td>\n",
              "      <td>4</td>\n",
              "      <td>3</td>\n",
              "      <td>7</td>\n",
              "      <td>1</td>\n",
              "      <td>2</td>\n",
              "    </tr>\n",
              "    <tr>\n",
              "      <th>4</th>\n",
              "      <td>1017023</td>\n",
              "      <td>4</td>\n",
              "      <td>1</td>\n",
              "      <td>1</td>\n",
              "      <td>3</td>\n",
              "      <td>2</td>\n",
              "      <td>1</td>\n",
              "      <td>3</td>\n",
              "      <td>1</td>\n",
              "      <td>1</td>\n",
              "      <td>2</td>\n",
              "    </tr>\n",
              "    <tr>\n",
              "      <th>5</th>\n",
              "      <td>1017122</td>\n",
              "      <td>8</td>\n",
              "      <td>10</td>\n",
              "      <td>10</td>\n",
              "      <td>8</td>\n",
              "      <td>7</td>\n",
              "      <td>10</td>\n",
              "      <td>9</td>\n",
              "      <td>7</td>\n",
              "      <td>1</td>\n",
              "      <td>4</td>\n",
              "    </tr>\n",
              "    <tr>\n",
              "      <th>6</th>\n",
              "      <td>1018099</td>\n",
              "      <td>1</td>\n",
              "      <td>1</td>\n",
              "      <td>1</td>\n",
              "      <td>1</td>\n",
              "      <td>2</td>\n",
              "      <td>10</td>\n",
              "      <td>3</td>\n",
              "      <td>1</td>\n",
              "      <td>1</td>\n",
              "      <td>2</td>\n",
              "    </tr>\n",
              "    <tr>\n",
              "      <th>7</th>\n",
              "      <td>1018561</td>\n",
              "      <td>2</td>\n",
              "      <td>1</td>\n",
              "      <td>2</td>\n",
              "      <td>1</td>\n",
              "      <td>2</td>\n",
              "      <td>1</td>\n",
              "      <td>3</td>\n",
              "      <td>1</td>\n",
              "      <td>1</td>\n",
              "      <td>2</td>\n",
              "    </tr>\n",
              "    <tr>\n",
              "      <th>8</th>\n",
              "      <td>1033078</td>\n",
              "      <td>2</td>\n",
              "      <td>1</td>\n",
              "      <td>1</td>\n",
              "      <td>1</td>\n",
              "      <td>2</td>\n",
              "      <td>1</td>\n",
              "      <td>1</td>\n",
              "      <td>1</td>\n",
              "      <td>5</td>\n",
              "      <td>2</td>\n",
              "    </tr>\n",
              "    <tr>\n",
              "      <th>9</th>\n",
              "      <td>1033078</td>\n",
              "      <td>4</td>\n",
              "      <td>2</td>\n",
              "      <td>1</td>\n",
              "      <td>1</td>\n",
              "      <td>2</td>\n",
              "      <td>1</td>\n",
              "      <td>2</td>\n",
              "      <td>1</td>\n",
              "      <td>1</td>\n",
              "      <td>2</td>\n",
              "    </tr>\n",
              "  </tbody>\n",
              "</table>\n",
              "</div>\n",
              "    <div class=\"colab-df-buttons\">\n",
              "\n",
              "  <div class=\"colab-df-container\">\n",
              "    <button class=\"colab-df-convert\" onclick=\"convertToInteractive('df-2c01dfa5-e73e-4e37-a2a7-f140013d0fd2')\"\n",
              "            title=\"Convert this dataframe to an interactive table.\"\n",
              "            style=\"display:none;\">\n",
              "\n",
              "  <svg xmlns=\"http://www.w3.org/2000/svg\" height=\"24px\" viewBox=\"0 -960 960 960\">\n",
              "    <path d=\"M120-120v-720h720v720H120Zm60-500h600v-160H180v160Zm220 220h160v-160H400v160Zm0 220h160v-160H400v160ZM180-400h160v-160H180v160Zm440 0h160v-160H620v160ZM180-180h160v-160H180v160Zm440 0h160v-160H620v160Z\"/>\n",
              "  </svg>\n",
              "    </button>\n",
              "\n",
              "  <style>\n",
              "    .colab-df-container {\n",
              "      display:flex;\n",
              "      gap: 12px;\n",
              "    }\n",
              "\n",
              "    .colab-df-convert {\n",
              "      background-color: #E8F0FE;\n",
              "      border: none;\n",
              "      border-radius: 50%;\n",
              "      cursor: pointer;\n",
              "      display: none;\n",
              "      fill: #1967D2;\n",
              "      height: 32px;\n",
              "      padding: 0 0 0 0;\n",
              "      width: 32px;\n",
              "    }\n",
              "\n",
              "    .colab-df-convert:hover {\n",
              "      background-color: #E2EBFA;\n",
              "      box-shadow: 0px 1px 2px rgba(60, 64, 67, 0.3), 0px 1px 3px 1px rgba(60, 64, 67, 0.15);\n",
              "      fill: #174EA6;\n",
              "    }\n",
              "\n",
              "    .colab-df-buttons div {\n",
              "      margin-bottom: 4px;\n",
              "    }\n",
              "\n",
              "    [theme=dark] .colab-df-convert {\n",
              "      background-color: #3B4455;\n",
              "      fill: #D2E3FC;\n",
              "    }\n",
              "\n",
              "    [theme=dark] .colab-df-convert:hover {\n",
              "      background-color: #434B5C;\n",
              "      box-shadow: 0px 1px 3px 1px rgba(0, 0, 0, 0.15);\n",
              "      filter: drop-shadow(0px 1px 2px rgba(0, 0, 0, 0.3));\n",
              "      fill: #FFFFFF;\n",
              "    }\n",
              "  </style>\n",
              "\n",
              "    <script>\n",
              "      const buttonEl =\n",
              "        document.querySelector('#df-2c01dfa5-e73e-4e37-a2a7-f140013d0fd2 button.colab-df-convert');\n",
              "      buttonEl.style.display =\n",
              "        google.colab.kernel.accessAllowed ? 'block' : 'none';\n",
              "\n",
              "      async function convertToInteractive(key) {\n",
              "        const element = document.querySelector('#df-2c01dfa5-e73e-4e37-a2a7-f140013d0fd2');\n",
              "        const dataTable =\n",
              "          await google.colab.kernel.invokeFunction('convertToInteractive',\n",
              "                                                    [key], {});\n",
              "        if (!dataTable) return;\n",
              "\n",
              "        const docLinkHtml = 'Like what you see? Visit the ' +\n",
              "          '<a target=\"_blank\" href=https://colab.research.google.com/notebooks/data_table.ipynb>data table notebook</a>'\n",
              "          + ' to learn more about interactive tables.';\n",
              "        element.innerHTML = '';\n",
              "        dataTable['output_type'] = 'display_data';\n",
              "        await google.colab.output.renderOutput(dataTable, element);\n",
              "        const docLink = document.createElement('div');\n",
              "        docLink.innerHTML = docLinkHtml;\n",
              "        element.appendChild(docLink);\n",
              "      }\n",
              "    </script>\n",
              "  </div>\n",
              "\n",
              "\n",
              "<div id=\"df-75f5c344-4480-4180-bb98-a81e3ca63914\">\n",
              "  <button class=\"colab-df-quickchart\" onclick=\"quickchart('df-75f5c344-4480-4180-bb98-a81e3ca63914')\"\n",
              "            title=\"Suggest charts\"\n",
              "            style=\"display:none;\">\n",
              "\n",
              "<svg xmlns=\"http://www.w3.org/2000/svg\" height=\"24px\"viewBox=\"0 0 24 24\"\n",
              "     width=\"24px\">\n",
              "    <g>\n",
              "        <path d=\"M19 3H5c-1.1 0-2 .9-2 2v14c0 1.1.9 2 2 2h14c1.1 0 2-.9 2-2V5c0-1.1-.9-2-2-2zM9 17H7v-7h2v7zm4 0h-2V7h2v10zm4 0h-2v-4h2v4z\"/>\n",
              "    </g>\n",
              "</svg>\n",
              "  </button>\n",
              "\n",
              "<style>\n",
              "  .colab-df-quickchart {\n",
              "      --bg-color: #E8F0FE;\n",
              "      --fill-color: #1967D2;\n",
              "      --hover-bg-color: #E2EBFA;\n",
              "      --hover-fill-color: #174EA6;\n",
              "      --disabled-fill-color: #AAA;\n",
              "      --disabled-bg-color: #DDD;\n",
              "  }\n",
              "\n",
              "  [theme=dark] .colab-df-quickchart {\n",
              "      --bg-color: #3B4455;\n",
              "      --fill-color: #D2E3FC;\n",
              "      --hover-bg-color: #434B5C;\n",
              "      --hover-fill-color: #FFFFFF;\n",
              "      --disabled-bg-color: #3B4455;\n",
              "      --disabled-fill-color: #666;\n",
              "  }\n",
              "\n",
              "  .colab-df-quickchart {\n",
              "    background-color: var(--bg-color);\n",
              "    border: none;\n",
              "    border-radius: 50%;\n",
              "    cursor: pointer;\n",
              "    display: none;\n",
              "    fill: var(--fill-color);\n",
              "    height: 32px;\n",
              "    padding: 0;\n",
              "    width: 32px;\n",
              "  }\n",
              "\n",
              "  .colab-df-quickchart:hover {\n",
              "    background-color: var(--hover-bg-color);\n",
              "    box-shadow: 0 1px 2px rgba(60, 64, 67, 0.3), 0 1px 3px 1px rgba(60, 64, 67, 0.15);\n",
              "    fill: var(--button-hover-fill-color);\n",
              "  }\n",
              "\n",
              "  .colab-df-quickchart-complete:disabled,\n",
              "  .colab-df-quickchart-complete:disabled:hover {\n",
              "    background-color: var(--disabled-bg-color);\n",
              "    fill: var(--disabled-fill-color);\n",
              "    box-shadow: none;\n",
              "  }\n",
              "\n",
              "  .colab-df-spinner {\n",
              "    border: 2px solid var(--fill-color);\n",
              "    border-color: transparent;\n",
              "    border-bottom-color: var(--fill-color);\n",
              "    animation:\n",
              "      spin 1s steps(1) infinite;\n",
              "  }\n",
              "\n",
              "  @keyframes spin {\n",
              "    0% {\n",
              "      border-color: transparent;\n",
              "      border-bottom-color: var(--fill-color);\n",
              "      border-left-color: var(--fill-color);\n",
              "    }\n",
              "    20% {\n",
              "      border-color: transparent;\n",
              "      border-left-color: var(--fill-color);\n",
              "      border-top-color: var(--fill-color);\n",
              "    }\n",
              "    30% {\n",
              "      border-color: transparent;\n",
              "      border-left-color: var(--fill-color);\n",
              "      border-top-color: var(--fill-color);\n",
              "      border-right-color: var(--fill-color);\n",
              "    }\n",
              "    40% {\n",
              "      border-color: transparent;\n",
              "      border-right-color: var(--fill-color);\n",
              "      border-top-color: var(--fill-color);\n",
              "    }\n",
              "    60% {\n",
              "      border-color: transparent;\n",
              "      border-right-color: var(--fill-color);\n",
              "    }\n",
              "    80% {\n",
              "      border-color: transparent;\n",
              "      border-right-color: var(--fill-color);\n",
              "      border-bottom-color: var(--fill-color);\n",
              "    }\n",
              "    90% {\n",
              "      border-color: transparent;\n",
              "      border-bottom-color: var(--fill-color);\n",
              "    }\n",
              "  }\n",
              "</style>\n",
              "\n",
              "  <script>\n",
              "    async function quickchart(key) {\n",
              "      const quickchartButtonEl =\n",
              "        document.querySelector('#' + key + ' button');\n",
              "      quickchartButtonEl.disabled = true;  // To prevent multiple clicks.\n",
              "      quickchartButtonEl.classList.add('colab-df-spinner');\n",
              "      try {\n",
              "        const charts = await google.colab.kernel.invokeFunction(\n",
              "            'suggestCharts', [key], {});\n",
              "      } catch (error) {\n",
              "        console.error('Error during call to suggestCharts:', error);\n",
              "      }\n",
              "      quickchartButtonEl.classList.remove('colab-df-spinner');\n",
              "      quickchartButtonEl.classList.add('colab-df-quickchart-complete');\n",
              "    }\n",
              "    (() => {\n",
              "      let quickchartButtonEl =\n",
              "        document.querySelector('#df-75f5c344-4480-4180-bb98-a81e3ca63914 button');\n",
              "      quickchartButtonEl.style.display =\n",
              "        google.colab.kernel.accessAllowed ? 'block' : 'none';\n",
              "    })();\n",
              "  </script>\n",
              "</div>\n",
              "\n",
              "    </div>\n",
              "  </div>\n"
            ],
            "application/vnd.google.colaboratory.intrinsic+json": {
              "type": "dataframe",
              "variable_name": "data",
              "summary": "{\n  \"name\": \"data\",\n  \"rows\": 699,\n  \"fields\": [\n    {\n      \"column\": \"ID\",\n      \"properties\": {\n        \"dtype\": \"number\",\n        \"std\": 617095,\n        \"min\": 61634,\n        \"max\": 13454352,\n        \"num_unique_values\": 645,\n        \"samples\": [\n          1371920,\n          1277792,\n          1311108\n        ],\n        \"semantic_type\": \"\",\n        \"description\": \"\"\n      }\n    },\n    {\n      \"column\": \"Clump Thickness\",\n      \"properties\": {\n        \"dtype\": \"number\",\n        \"std\": 2,\n        \"min\": 1,\n        \"max\": 10,\n        \"num_unique_values\": 10,\n        \"samples\": [\n          10,\n          3,\n          1\n        ],\n        \"semantic_type\": \"\",\n        \"description\": \"\"\n      }\n    },\n    {\n      \"column\": \"Uniformity of Cell Size\",\n      \"properties\": {\n        \"dtype\": \"number\",\n        \"std\": 3,\n        \"min\": 1,\n        \"max\": 10,\n        \"num_unique_values\": 10,\n        \"samples\": [\n          6,\n          4,\n          3\n        ],\n        \"semantic_type\": \"\",\n        \"description\": \"\"\n      }\n    },\n    {\n      \"column\": \"Uniformity of Cell Shape\",\n      \"properties\": {\n        \"dtype\": \"number\",\n        \"std\": 2,\n        \"min\": 1,\n        \"max\": 10,\n        \"num_unique_values\": 10,\n        \"samples\": [\n          7,\n          4,\n          3\n        ],\n        \"semantic_type\": \"\",\n        \"description\": \"\"\n      }\n    },\n    {\n      \"column\": \"Marginal Adhesion\",\n      \"properties\": {\n        \"dtype\": \"number\",\n        \"std\": 2,\n        \"min\": 1,\n        \"max\": 10,\n        \"num_unique_values\": 10,\n        \"samples\": [\n          9,\n          5,\n          4\n        ],\n        \"semantic_type\": \"\",\n        \"description\": \"\"\n      }\n    },\n    {\n      \"column\": \"Single Epithelial Cell Size\",\n      \"properties\": {\n        \"dtype\": \"number\",\n        \"std\": 2,\n        \"min\": 1,\n        \"max\": 10,\n        \"num_unique_values\": 10,\n        \"samples\": [\n          10,\n          7,\n          4\n        ],\n        \"semantic_type\": \"\",\n        \"description\": \"\"\n      }\n    },\n    {\n      \"column\": \"Bare Nuclei\",\n      \"properties\": {\n        \"dtype\": \"category\",\n        \"num_unique_values\": 11,\n        \"samples\": [\n          \"9\",\n          \"1\",\n          \"8\"\n        ],\n        \"semantic_type\": \"\",\n        \"description\": \"\"\n      }\n    },\n    {\n      \"column\": \"Bland Chromatin\",\n      \"properties\": {\n        \"dtype\": \"number\",\n        \"std\": 2,\n        \"min\": 1,\n        \"max\": 10,\n        \"num_unique_values\": 10,\n        \"samples\": [\n          6,\n          9,\n          5\n        ],\n        \"semantic_type\": \"\",\n        \"description\": \"\"\n      }\n    },\n    {\n      \"column\": \"Normal Nucleoli\",\n      \"properties\": {\n        \"dtype\": \"number\",\n        \"std\": 3,\n        \"min\": 1,\n        \"max\": 10,\n        \"num_unique_values\": 10,\n        \"samples\": [\n          9,\n          2,\n          3\n        ],\n        \"semantic_type\": \"\",\n        \"description\": \"\"\n      }\n    },\n    {\n      \"column\": \"Mitoses\",\n      \"properties\": {\n        \"dtype\": \"number\",\n        \"std\": 1,\n        \"min\": 1,\n        \"max\": 10,\n        \"num_unique_values\": 9,\n        \"samples\": [\n          8,\n          5,\n          7\n        ],\n        \"semantic_type\": \"\",\n        \"description\": \"\"\n      }\n    },\n    {\n      \"column\": \"Class\",\n      \"properties\": {\n        \"dtype\": \"number\",\n        \"std\": 0,\n        \"min\": 2,\n        \"max\": 4,\n        \"num_unique_values\": 2,\n        \"samples\": [\n          4,\n          2\n        ],\n        \"semantic_type\": \"\",\n        \"description\": \"\"\n      }\n    }\n  ]\n}"
            }
          },
          "metadata": {},
          "execution_count": 4
        }
      ],
      "source": [
        "data.head(10)"
      ]
    },
    {
      "cell_type": "markdown",
      "metadata": {
        "id": "G0l7a7d51r_X"
      },
      "source": [
        "With the `.shape()` method we can check how many datapoints we have"
      ]
    },
    {
      "cell_type": "code",
      "execution_count": 5,
      "metadata": {
        "id": "x3f8aEgD1r_X",
        "colab": {
          "base_uri": "https://localhost:8080/"
        },
        "outputId": "459c24a1-1263-4f4d-d96c-0482d3b32be5"
      },
      "outputs": [
        {
          "output_type": "stream",
          "name": "stdout",
          "text": [
            "There are 699 data points. Each one of dimension 11\n"
          ]
        }
      ],
      "source": [
        "print('There are %d data points. Each one of dimension %d' %(data.shape[0],data.shape[1]))"
      ]
    },
    {
      "cell_type": "markdown",
      "metadata": {
        "id": "F0IclgJL1r_X"
      },
      "source": [
        "We will do the following preprocessing steps. All of them are implemented in Pandas (it is advisory for very large databases):\n",
        "\n",
        "- Remove the 'ID' column. We won't use it anymore\n",
        "\n",
        "- Analyze missing data (Encoded in this database with a '?' by the column mode).\n",
        "\n",
        "- The tumor class is equal to 2 for bening tumors and to 4 for malignat tumors. We will replace this by 0 and 1 respectively\n",
        "\n",
        "- Create a train set and a test set\n",
        "\n",
        "- We will normalize all input variables so they all have zero mean and unit variance"
      ]
    },
    {
      "cell_type": "markdown",
      "metadata": {
        "id": "aSGZnrAK1r_Y"
      },
      "source": [
        "### Remove ID colum\n",
        "\n",
        "We can use the `.drop()` method. We use the input `inplace=True` to override the existing Dataframe."
      ]
    },
    {
      "cell_type": "code",
      "execution_count": 6,
      "metadata": {
        "id": "B8-J875r1r_Y"
      },
      "outputs": [],
      "source": [
        "data.drop('ID', axis=1, inplace=True)"
      ]
    },
    {
      "cell_type": "code",
      "execution_count": 7,
      "metadata": {
        "id": "A7Nxzquf1r_Y",
        "colab": {
          "base_uri": "https://localhost:8080/",
          "height": 383
        },
        "outputId": "aca6cc76-f846-476f-af99-9603b91b6bce"
      },
      "outputs": [
        {
          "output_type": "execute_result",
          "data": {
            "text/plain": [
              "   Clump Thickness  Uniformity of Cell Size  Uniformity of Cell Shape  \\\n",
              "0                5                        1                         1   \n",
              "1                5                        4                         4   \n",
              "2                3                        1                         1   \n",
              "3                6                        8                         8   \n",
              "4                4                        1                         1   \n",
              "5                8                       10                        10   \n",
              "6                1                        1                         1   \n",
              "7                2                        1                         2   \n",
              "8                2                        1                         1   \n",
              "9                4                        2                         1   \n",
              "\n",
              "   Marginal Adhesion  Single Epithelial Cell Size Bare Nuclei  \\\n",
              "0                  1                            2           1   \n",
              "1                  5                            7          10   \n",
              "2                  1                            2           2   \n",
              "3                  1                            3           4   \n",
              "4                  3                            2           1   \n",
              "5                  8                            7          10   \n",
              "6                  1                            2          10   \n",
              "7                  1                            2           1   \n",
              "8                  1                            2           1   \n",
              "9                  1                            2           1   \n",
              "\n",
              "   Bland Chromatin  Normal Nucleoli  Mitoses  Class  \n",
              "0                3                1        1      2  \n",
              "1                3                2        1      2  \n",
              "2                3                1        1      2  \n",
              "3                3                7        1      2  \n",
              "4                3                1        1      2  \n",
              "5                9                7        1      4  \n",
              "6                3                1        1      2  \n",
              "7                3                1        1      2  \n",
              "8                1                1        5      2  \n",
              "9                2                1        1      2  "
            ],
            "text/html": [
              "\n",
              "  <div id=\"df-46823044-efc2-4ed3-a4ad-6255ee593a98\" class=\"colab-df-container\">\n",
              "    <div>\n",
              "<style scoped>\n",
              "    .dataframe tbody tr th:only-of-type {\n",
              "        vertical-align: middle;\n",
              "    }\n",
              "\n",
              "    .dataframe tbody tr th {\n",
              "        vertical-align: top;\n",
              "    }\n",
              "\n",
              "    .dataframe thead th {\n",
              "        text-align: right;\n",
              "    }\n",
              "</style>\n",
              "<table border=\"1\" class=\"dataframe\">\n",
              "  <thead>\n",
              "    <tr style=\"text-align: right;\">\n",
              "      <th></th>\n",
              "      <th>Clump Thickness</th>\n",
              "      <th>Uniformity of Cell Size</th>\n",
              "      <th>Uniformity of Cell Shape</th>\n",
              "      <th>Marginal Adhesion</th>\n",
              "      <th>Single Epithelial Cell Size</th>\n",
              "      <th>Bare Nuclei</th>\n",
              "      <th>Bland Chromatin</th>\n",
              "      <th>Normal Nucleoli</th>\n",
              "      <th>Mitoses</th>\n",
              "      <th>Class</th>\n",
              "    </tr>\n",
              "  </thead>\n",
              "  <tbody>\n",
              "    <tr>\n",
              "      <th>0</th>\n",
              "      <td>5</td>\n",
              "      <td>1</td>\n",
              "      <td>1</td>\n",
              "      <td>1</td>\n",
              "      <td>2</td>\n",
              "      <td>1</td>\n",
              "      <td>3</td>\n",
              "      <td>1</td>\n",
              "      <td>1</td>\n",
              "      <td>2</td>\n",
              "    </tr>\n",
              "    <tr>\n",
              "      <th>1</th>\n",
              "      <td>5</td>\n",
              "      <td>4</td>\n",
              "      <td>4</td>\n",
              "      <td>5</td>\n",
              "      <td>7</td>\n",
              "      <td>10</td>\n",
              "      <td>3</td>\n",
              "      <td>2</td>\n",
              "      <td>1</td>\n",
              "      <td>2</td>\n",
              "    </tr>\n",
              "    <tr>\n",
              "      <th>2</th>\n",
              "      <td>3</td>\n",
              "      <td>1</td>\n",
              "      <td>1</td>\n",
              "      <td>1</td>\n",
              "      <td>2</td>\n",
              "      <td>2</td>\n",
              "      <td>3</td>\n",
              "      <td>1</td>\n",
              "      <td>1</td>\n",
              "      <td>2</td>\n",
              "    </tr>\n",
              "    <tr>\n",
              "      <th>3</th>\n",
              "      <td>6</td>\n",
              "      <td>8</td>\n",
              "      <td>8</td>\n",
              "      <td>1</td>\n",
              "      <td>3</td>\n",
              "      <td>4</td>\n",
              "      <td>3</td>\n",
              "      <td>7</td>\n",
              "      <td>1</td>\n",
              "      <td>2</td>\n",
              "    </tr>\n",
              "    <tr>\n",
              "      <th>4</th>\n",
              "      <td>4</td>\n",
              "      <td>1</td>\n",
              "      <td>1</td>\n",
              "      <td>3</td>\n",
              "      <td>2</td>\n",
              "      <td>1</td>\n",
              "      <td>3</td>\n",
              "      <td>1</td>\n",
              "      <td>1</td>\n",
              "      <td>2</td>\n",
              "    </tr>\n",
              "    <tr>\n",
              "      <th>5</th>\n",
              "      <td>8</td>\n",
              "      <td>10</td>\n",
              "      <td>10</td>\n",
              "      <td>8</td>\n",
              "      <td>7</td>\n",
              "      <td>10</td>\n",
              "      <td>9</td>\n",
              "      <td>7</td>\n",
              "      <td>1</td>\n",
              "      <td>4</td>\n",
              "    </tr>\n",
              "    <tr>\n",
              "      <th>6</th>\n",
              "      <td>1</td>\n",
              "      <td>1</td>\n",
              "      <td>1</td>\n",
              "      <td>1</td>\n",
              "      <td>2</td>\n",
              "      <td>10</td>\n",
              "      <td>3</td>\n",
              "      <td>1</td>\n",
              "      <td>1</td>\n",
              "      <td>2</td>\n",
              "    </tr>\n",
              "    <tr>\n",
              "      <th>7</th>\n",
              "      <td>2</td>\n",
              "      <td>1</td>\n",
              "      <td>2</td>\n",
              "      <td>1</td>\n",
              "      <td>2</td>\n",
              "      <td>1</td>\n",
              "      <td>3</td>\n",
              "      <td>1</td>\n",
              "      <td>1</td>\n",
              "      <td>2</td>\n",
              "    </tr>\n",
              "    <tr>\n",
              "      <th>8</th>\n",
              "      <td>2</td>\n",
              "      <td>1</td>\n",
              "      <td>1</td>\n",
              "      <td>1</td>\n",
              "      <td>2</td>\n",
              "      <td>1</td>\n",
              "      <td>1</td>\n",
              "      <td>1</td>\n",
              "      <td>5</td>\n",
              "      <td>2</td>\n",
              "    </tr>\n",
              "    <tr>\n",
              "      <th>9</th>\n",
              "      <td>4</td>\n",
              "      <td>2</td>\n",
              "      <td>1</td>\n",
              "      <td>1</td>\n",
              "      <td>2</td>\n",
              "      <td>1</td>\n",
              "      <td>2</td>\n",
              "      <td>1</td>\n",
              "      <td>1</td>\n",
              "      <td>2</td>\n",
              "    </tr>\n",
              "  </tbody>\n",
              "</table>\n",
              "</div>\n",
              "    <div class=\"colab-df-buttons\">\n",
              "\n",
              "  <div class=\"colab-df-container\">\n",
              "    <button class=\"colab-df-convert\" onclick=\"convertToInteractive('df-46823044-efc2-4ed3-a4ad-6255ee593a98')\"\n",
              "            title=\"Convert this dataframe to an interactive table.\"\n",
              "            style=\"display:none;\">\n",
              "\n",
              "  <svg xmlns=\"http://www.w3.org/2000/svg\" height=\"24px\" viewBox=\"0 -960 960 960\">\n",
              "    <path d=\"M120-120v-720h720v720H120Zm60-500h600v-160H180v160Zm220 220h160v-160H400v160Zm0 220h160v-160H400v160ZM180-400h160v-160H180v160Zm440 0h160v-160H620v160ZM180-180h160v-160H180v160Zm440 0h160v-160H620v160Z\"/>\n",
              "  </svg>\n",
              "    </button>\n",
              "\n",
              "  <style>\n",
              "    .colab-df-container {\n",
              "      display:flex;\n",
              "      gap: 12px;\n",
              "    }\n",
              "\n",
              "    .colab-df-convert {\n",
              "      background-color: #E8F0FE;\n",
              "      border: none;\n",
              "      border-radius: 50%;\n",
              "      cursor: pointer;\n",
              "      display: none;\n",
              "      fill: #1967D2;\n",
              "      height: 32px;\n",
              "      padding: 0 0 0 0;\n",
              "      width: 32px;\n",
              "    }\n",
              "\n",
              "    .colab-df-convert:hover {\n",
              "      background-color: #E2EBFA;\n",
              "      box-shadow: 0px 1px 2px rgba(60, 64, 67, 0.3), 0px 1px 3px 1px rgba(60, 64, 67, 0.15);\n",
              "      fill: #174EA6;\n",
              "    }\n",
              "\n",
              "    .colab-df-buttons div {\n",
              "      margin-bottom: 4px;\n",
              "    }\n",
              "\n",
              "    [theme=dark] .colab-df-convert {\n",
              "      background-color: #3B4455;\n",
              "      fill: #D2E3FC;\n",
              "    }\n",
              "\n",
              "    [theme=dark] .colab-df-convert:hover {\n",
              "      background-color: #434B5C;\n",
              "      box-shadow: 0px 1px 3px 1px rgba(0, 0, 0, 0.15);\n",
              "      filter: drop-shadow(0px 1px 2px rgba(0, 0, 0, 0.3));\n",
              "      fill: #FFFFFF;\n",
              "    }\n",
              "  </style>\n",
              "\n",
              "    <script>\n",
              "      const buttonEl =\n",
              "        document.querySelector('#df-46823044-efc2-4ed3-a4ad-6255ee593a98 button.colab-df-convert');\n",
              "      buttonEl.style.display =\n",
              "        google.colab.kernel.accessAllowed ? 'block' : 'none';\n",
              "\n",
              "      async function convertToInteractive(key) {\n",
              "        const element = document.querySelector('#df-46823044-efc2-4ed3-a4ad-6255ee593a98');\n",
              "        const dataTable =\n",
              "          await google.colab.kernel.invokeFunction('convertToInteractive',\n",
              "                                                    [key], {});\n",
              "        if (!dataTable) return;\n",
              "\n",
              "        const docLinkHtml = 'Like what you see? Visit the ' +\n",
              "          '<a target=\"_blank\" href=https://colab.research.google.com/notebooks/data_table.ipynb>data table notebook</a>'\n",
              "          + ' to learn more about interactive tables.';\n",
              "        element.innerHTML = '';\n",
              "        dataTable['output_type'] = 'display_data';\n",
              "        await google.colab.output.renderOutput(dataTable, element);\n",
              "        const docLink = document.createElement('div');\n",
              "        docLink.innerHTML = docLinkHtml;\n",
              "        element.appendChild(docLink);\n",
              "      }\n",
              "    </script>\n",
              "  </div>\n",
              "\n",
              "\n",
              "<div id=\"df-a7a5a91e-93b4-429b-9094-66a68ce69ef5\">\n",
              "  <button class=\"colab-df-quickchart\" onclick=\"quickchart('df-a7a5a91e-93b4-429b-9094-66a68ce69ef5')\"\n",
              "            title=\"Suggest charts\"\n",
              "            style=\"display:none;\">\n",
              "\n",
              "<svg xmlns=\"http://www.w3.org/2000/svg\" height=\"24px\"viewBox=\"0 0 24 24\"\n",
              "     width=\"24px\">\n",
              "    <g>\n",
              "        <path d=\"M19 3H5c-1.1 0-2 .9-2 2v14c0 1.1.9 2 2 2h14c1.1 0 2-.9 2-2V5c0-1.1-.9-2-2-2zM9 17H7v-7h2v7zm4 0h-2V7h2v10zm4 0h-2v-4h2v4z\"/>\n",
              "    </g>\n",
              "</svg>\n",
              "  </button>\n",
              "\n",
              "<style>\n",
              "  .colab-df-quickchart {\n",
              "      --bg-color: #E8F0FE;\n",
              "      --fill-color: #1967D2;\n",
              "      --hover-bg-color: #E2EBFA;\n",
              "      --hover-fill-color: #174EA6;\n",
              "      --disabled-fill-color: #AAA;\n",
              "      --disabled-bg-color: #DDD;\n",
              "  }\n",
              "\n",
              "  [theme=dark] .colab-df-quickchart {\n",
              "      --bg-color: #3B4455;\n",
              "      --fill-color: #D2E3FC;\n",
              "      --hover-bg-color: #434B5C;\n",
              "      --hover-fill-color: #FFFFFF;\n",
              "      --disabled-bg-color: #3B4455;\n",
              "      --disabled-fill-color: #666;\n",
              "  }\n",
              "\n",
              "  .colab-df-quickchart {\n",
              "    background-color: var(--bg-color);\n",
              "    border: none;\n",
              "    border-radius: 50%;\n",
              "    cursor: pointer;\n",
              "    display: none;\n",
              "    fill: var(--fill-color);\n",
              "    height: 32px;\n",
              "    padding: 0;\n",
              "    width: 32px;\n",
              "  }\n",
              "\n",
              "  .colab-df-quickchart:hover {\n",
              "    background-color: var(--hover-bg-color);\n",
              "    box-shadow: 0 1px 2px rgba(60, 64, 67, 0.3), 0 1px 3px 1px rgba(60, 64, 67, 0.15);\n",
              "    fill: var(--button-hover-fill-color);\n",
              "  }\n",
              "\n",
              "  .colab-df-quickchart-complete:disabled,\n",
              "  .colab-df-quickchart-complete:disabled:hover {\n",
              "    background-color: var(--disabled-bg-color);\n",
              "    fill: var(--disabled-fill-color);\n",
              "    box-shadow: none;\n",
              "  }\n",
              "\n",
              "  .colab-df-spinner {\n",
              "    border: 2px solid var(--fill-color);\n",
              "    border-color: transparent;\n",
              "    border-bottom-color: var(--fill-color);\n",
              "    animation:\n",
              "      spin 1s steps(1) infinite;\n",
              "  }\n",
              "\n",
              "  @keyframes spin {\n",
              "    0% {\n",
              "      border-color: transparent;\n",
              "      border-bottom-color: var(--fill-color);\n",
              "      border-left-color: var(--fill-color);\n",
              "    }\n",
              "    20% {\n",
              "      border-color: transparent;\n",
              "      border-left-color: var(--fill-color);\n",
              "      border-top-color: var(--fill-color);\n",
              "    }\n",
              "    30% {\n",
              "      border-color: transparent;\n",
              "      border-left-color: var(--fill-color);\n",
              "      border-top-color: var(--fill-color);\n",
              "      border-right-color: var(--fill-color);\n",
              "    }\n",
              "    40% {\n",
              "      border-color: transparent;\n",
              "      border-right-color: var(--fill-color);\n",
              "      border-top-color: var(--fill-color);\n",
              "    }\n",
              "    60% {\n",
              "      border-color: transparent;\n",
              "      border-right-color: var(--fill-color);\n",
              "    }\n",
              "    80% {\n",
              "      border-color: transparent;\n",
              "      border-right-color: var(--fill-color);\n",
              "      border-bottom-color: var(--fill-color);\n",
              "    }\n",
              "    90% {\n",
              "      border-color: transparent;\n",
              "      border-bottom-color: var(--fill-color);\n",
              "    }\n",
              "  }\n",
              "</style>\n",
              "\n",
              "  <script>\n",
              "    async function quickchart(key) {\n",
              "      const quickchartButtonEl =\n",
              "        document.querySelector('#' + key + ' button');\n",
              "      quickchartButtonEl.disabled = true;  // To prevent multiple clicks.\n",
              "      quickchartButtonEl.classList.add('colab-df-spinner');\n",
              "      try {\n",
              "        const charts = await google.colab.kernel.invokeFunction(\n",
              "            'suggestCharts', [key], {});\n",
              "      } catch (error) {\n",
              "        console.error('Error during call to suggestCharts:', error);\n",
              "      }\n",
              "      quickchartButtonEl.classList.remove('colab-df-spinner');\n",
              "      quickchartButtonEl.classList.add('colab-df-quickchart-complete');\n",
              "    }\n",
              "    (() => {\n",
              "      let quickchartButtonEl =\n",
              "        document.querySelector('#df-a7a5a91e-93b4-429b-9094-66a68ce69ef5 button');\n",
              "      quickchartButtonEl.style.display =\n",
              "        google.colab.kernel.accessAllowed ? 'block' : 'none';\n",
              "    })();\n",
              "  </script>\n",
              "</div>\n",
              "\n",
              "    </div>\n",
              "  </div>\n"
            ],
            "application/vnd.google.colaboratory.intrinsic+json": {
              "type": "dataframe",
              "variable_name": "data",
              "summary": "{\n  \"name\": \"data\",\n  \"rows\": 699,\n  \"fields\": [\n    {\n      \"column\": \"Clump Thickness\",\n      \"properties\": {\n        \"dtype\": \"number\",\n        \"std\": 2,\n        \"min\": 1,\n        \"max\": 10,\n        \"num_unique_values\": 10,\n        \"samples\": [\n          10,\n          3,\n          1\n        ],\n        \"semantic_type\": \"\",\n        \"description\": \"\"\n      }\n    },\n    {\n      \"column\": \"Uniformity of Cell Size\",\n      \"properties\": {\n        \"dtype\": \"number\",\n        \"std\": 3,\n        \"min\": 1,\n        \"max\": 10,\n        \"num_unique_values\": 10,\n        \"samples\": [\n          6,\n          4,\n          3\n        ],\n        \"semantic_type\": \"\",\n        \"description\": \"\"\n      }\n    },\n    {\n      \"column\": \"Uniformity of Cell Shape\",\n      \"properties\": {\n        \"dtype\": \"number\",\n        \"std\": 2,\n        \"min\": 1,\n        \"max\": 10,\n        \"num_unique_values\": 10,\n        \"samples\": [\n          7,\n          4,\n          3\n        ],\n        \"semantic_type\": \"\",\n        \"description\": \"\"\n      }\n    },\n    {\n      \"column\": \"Marginal Adhesion\",\n      \"properties\": {\n        \"dtype\": \"number\",\n        \"std\": 2,\n        \"min\": 1,\n        \"max\": 10,\n        \"num_unique_values\": 10,\n        \"samples\": [\n          9,\n          5,\n          4\n        ],\n        \"semantic_type\": \"\",\n        \"description\": \"\"\n      }\n    },\n    {\n      \"column\": \"Single Epithelial Cell Size\",\n      \"properties\": {\n        \"dtype\": \"number\",\n        \"std\": 2,\n        \"min\": 1,\n        \"max\": 10,\n        \"num_unique_values\": 10,\n        \"samples\": [\n          10,\n          7,\n          4\n        ],\n        \"semantic_type\": \"\",\n        \"description\": \"\"\n      }\n    },\n    {\n      \"column\": \"Bare Nuclei\",\n      \"properties\": {\n        \"dtype\": \"category\",\n        \"num_unique_values\": 11,\n        \"samples\": [\n          \"9\",\n          \"1\",\n          \"8\"\n        ],\n        \"semantic_type\": \"\",\n        \"description\": \"\"\n      }\n    },\n    {\n      \"column\": \"Bland Chromatin\",\n      \"properties\": {\n        \"dtype\": \"number\",\n        \"std\": 2,\n        \"min\": 1,\n        \"max\": 10,\n        \"num_unique_values\": 10,\n        \"samples\": [\n          6,\n          9,\n          5\n        ],\n        \"semantic_type\": \"\",\n        \"description\": \"\"\n      }\n    },\n    {\n      \"column\": \"Normal Nucleoli\",\n      \"properties\": {\n        \"dtype\": \"number\",\n        \"std\": 3,\n        \"min\": 1,\n        \"max\": 10,\n        \"num_unique_values\": 10,\n        \"samples\": [\n          9,\n          2,\n          3\n        ],\n        \"semantic_type\": \"\",\n        \"description\": \"\"\n      }\n    },\n    {\n      \"column\": \"Mitoses\",\n      \"properties\": {\n        \"dtype\": \"number\",\n        \"std\": 1,\n        \"min\": 1,\n        \"max\": 10,\n        \"num_unique_values\": 9,\n        \"samples\": [\n          8,\n          5,\n          7\n        ],\n        \"semantic_type\": \"\",\n        \"description\": \"\"\n      }\n    },\n    {\n      \"column\": \"Class\",\n      \"properties\": {\n        \"dtype\": \"number\",\n        \"std\": 0,\n        \"min\": 2,\n        \"max\": 4,\n        \"num_unique_values\": 2,\n        \"samples\": [\n          4,\n          2\n        ],\n        \"semantic_type\": \"\",\n        \"description\": \"\"\n      }\n    }\n  ]\n}"
            }
          },
          "metadata": {},
          "execution_count": 7
        }
      ],
      "source": [
        "# Lets check the result\n",
        "\n",
        "data.head(10)"
      ]
    },
    {
      "cell_type": "markdown",
      "metadata": {
        "id": "zp9dRDBn1r_Y"
      },
      "source": [
        "### About missing data\n",
        "\n",
        "Pandas considers values like `NaN` and `None` to represent missing data. The `pandas.isnull` function can be used to tell whether or not a value is missing.\n",
        "\n",
        "Let's use `apply()` across all of the columns in our DataFrame to figure out which values are missing. But first we  change the `?` missing codification by `NaN`."
      ]
    },
    {
      "cell_type": "code",
      "execution_count": 8,
      "metadata": {
        "id": "zYM80JBa1r_Y"
      },
      "outputs": [],
      "source": [
        "data.replace('?', np.nan, inplace=True)"
      ]
    },
    {
      "cell_type": "code",
      "execution_count": 9,
      "metadata": {
        "id": "-75KOORE1r_Z"
      },
      "outputs": [],
      "source": [
        "empty = data.apply(lambda col: pd.isnull(col))"
      ]
    },
    {
      "cell_type": "code",
      "execution_count": 10,
      "metadata": {
        "id": "_AjLZlkr1r_Z",
        "colab": {
          "base_uri": "https://localhost:8080/",
          "height": 418
        },
        "outputId": "3939b864-750d-4f8a-ab54-731bdb5c769b"
      },
      "outputs": [
        {
          "output_type": "execute_result",
          "data": {
            "text/plain": [
              "Clump Thickness                 0\n",
              "Uniformity of Cell Size         0\n",
              "Uniformity of Cell Shape        0\n",
              "Marginal Adhesion               0\n",
              "Single Epithelial Cell Size     0\n",
              "Bare Nuclei                    16\n",
              "Bland Chromatin                 0\n",
              "Normal Nucleoli                 0\n",
              "Mitoses                         0\n",
              "Class                           0\n",
              "dtype: int64"
            ],
            "text/html": [
              "<div>\n",
              "<style scoped>\n",
              "    .dataframe tbody tr th:only-of-type {\n",
              "        vertical-align: middle;\n",
              "    }\n",
              "\n",
              "    .dataframe tbody tr th {\n",
              "        vertical-align: top;\n",
              "    }\n",
              "\n",
              "    .dataframe thead th {\n",
              "        text-align: right;\n",
              "    }\n",
              "</style>\n",
              "<table border=\"1\" class=\"dataframe\">\n",
              "  <thead>\n",
              "    <tr style=\"text-align: right;\">\n",
              "      <th></th>\n",
              "      <th>0</th>\n",
              "    </tr>\n",
              "  </thead>\n",
              "  <tbody>\n",
              "    <tr>\n",
              "      <th>Clump Thickness</th>\n",
              "      <td>0</td>\n",
              "    </tr>\n",
              "    <tr>\n",
              "      <th>Uniformity of Cell Size</th>\n",
              "      <td>0</td>\n",
              "    </tr>\n",
              "    <tr>\n",
              "      <th>Uniformity of Cell Shape</th>\n",
              "      <td>0</td>\n",
              "    </tr>\n",
              "    <tr>\n",
              "      <th>Marginal Adhesion</th>\n",
              "      <td>0</td>\n",
              "    </tr>\n",
              "    <tr>\n",
              "      <th>Single Epithelial Cell Size</th>\n",
              "      <td>0</td>\n",
              "    </tr>\n",
              "    <tr>\n",
              "      <th>Bare Nuclei</th>\n",
              "      <td>16</td>\n",
              "    </tr>\n",
              "    <tr>\n",
              "      <th>Bland Chromatin</th>\n",
              "      <td>0</td>\n",
              "    </tr>\n",
              "    <tr>\n",
              "      <th>Normal Nucleoli</th>\n",
              "      <td>0</td>\n",
              "    </tr>\n",
              "    <tr>\n",
              "      <th>Mitoses</th>\n",
              "      <td>0</td>\n",
              "    </tr>\n",
              "    <tr>\n",
              "      <th>Class</th>\n",
              "      <td>0</td>\n",
              "    </tr>\n",
              "  </tbody>\n",
              "</table>\n",
              "</div><br><label><b>dtype:</b> int64</label>"
            ]
          },
          "metadata": {},
          "execution_count": 10
        }
      ],
      "source": [
        "empty.sum()"
      ]
    },
    {
      "cell_type": "markdown",
      "metadata": {
        "id": "dEgujMKw1r_Z"
      },
      "source": [
        "Observe that only one of the columns has 16 missing entries. For simplicity, let's remove this column. Be aware that in general we will impute missing data with some representative value."
      ]
    },
    {
      "cell_type": "code",
      "execution_count": 11,
      "metadata": {
        "id": "Sx3wKftq1r_Z"
      },
      "outputs": [],
      "source": [
        "data.drop('Bare Nuclei', axis=1, inplace=True)"
      ]
    },
    {
      "cell_type": "code",
      "execution_count": 12,
      "metadata": {
        "id": "ASjr_-_k1r_Z",
        "scrolled": true,
        "colab": {
          "base_uri": "https://localhost:8080/",
          "height": 386
        },
        "outputId": "348c83de-8a6b-4b95-94b9-d7ef49c382fa"
      },
      "outputs": [
        {
          "output_type": "execute_result",
          "data": {
            "text/plain": [
              "Clump Thickness                0\n",
              "Uniformity of Cell Size        0\n",
              "Uniformity of Cell Shape       0\n",
              "Marginal Adhesion              0\n",
              "Single Epithelial Cell Size    0\n",
              "Bland Chromatin                0\n",
              "Normal Nucleoli                0\n",
              "Mitoses                        0\n",
              "Class                          0\n",
              "dtype: int64"
            ],
            "text/html": [
              "<div>\n",
              "<style scoped>\n",
              "    .dataframe tbody tr th:only-of-type {\n",
              "        vertical-align: middle;\n",
              "    }\n",
              "\n",
              "    .dataframe tbody tr th {\n",
              "        vertical-align: top;\n",
              "    }\n",
              "\n",
              "    .dataframe thead th {\n",
              "        text-align: right;\n",
              "    }\n",
              "</style>\n",
              "<table border=\"1\" class=\"dataframe\">\n",
              "  <thead>\n",
              "    <tr style=\"text-align: right;\">\n",
              "      <th></th>\n",
              "      <th>0</th>\n",
              "    </tr>\n",
              "  </thead>\n",
              "  <tbody>\n",
              "    <tr>\n",
              "      <th>Clump Thickness</th>\n",
              "      <td>0</td>\n",
              "    </tr>\n",
              "    <tr>\n",
              "      <th>Uniformity of Cell Size</th>\n",
              "      <td>0</td>\n",
              "    </tr>\n",
              "    <tr>\n",
              "      <th>Uniformity of Cell Shape</th>\n",
              "      <td>0</td>\n",
              "    </tr>\n",
              "    <tr>\n",
              "      <th>Marginal Adhesion</th>\n",
              "      <td>0</td>\n",
              "    </tr>\n",
              "    <tr>\n",
              "      <th>Single Epithelial Cell Size</th>\n",
              "      <td>0</td>\n",
              "    </tr>\n",
              "    <tr>\n",
              "      <th>Bland Chromatin</th>\n",
              "      <td>0</td>\n",
              "    </tr>\n",
              "    <tr>\n",
              "      <th>Normal Nucleoli</th>\n",
              "      <td>0</td>\n",
              "    </tr>\n",
              "    <tr>\n",
              "      <th>Mitoses</th>\n",
              "      <td>0</td>\n",
              "    </tr>\n",
              "    <tr>\n",
              "      <th>Class</th>\n",
              "      <td>0</td>\n",
              "    </tr>\n",
              "  </tbody>\n",
              "</table>\n",
              "</div><br><label><b>dtype:</b> int64</label>"
            ]
          },
          "metadata": {},
          "execution_count": 12
        }
      ],
      "source": [
        "empty = data.apply(lambda col: pd.isnull(col))\n",
        "empty.sum()"
      ]
    },
    {
      "cell_type": "markdown",
      "metadata": {
        "id": "44e8aSAO1r_Z"
      },
      "source": [
        "### Create a binary class label\n",
        "\n",
        "To do so, we will create a simple function to convert the label and store the result in a new colum of the dataframe"
      ]
    },
    {
      "cell_type": "code",
      "execution_count": 13,
      "metadata": {
        "id": "Ak7NxFDj1r_a"
      },
      "outputs": [],
      "source": [
        "def convert_to_binary(l):\n",
        "    return (l-2.0)/2"
      ]
    },
    {
      "cell_type": "code",
      "execution_count": 14,
      "metadata": {
        "id": "EhPPU0801r_a"
      },
      "outputs": [],
      "source": [
        "# We create the new column\n",
        "\n",
        "data['Binary Class'] = data[['Class']].apply(lambda l: convert_to_binary(l))\n",
        "\n",
        "data.drop('Class', axis=1, inplace=True)"
      ]
    },
    {
      "cell_type": "markdown",
      "metadata": {
        "id": "Cw2y4Gli1r_a"
      },
      "source": [
        "Lets take a look to the histogram of the binary class label"
      ]
    },
    {
      "cell_type": "code",
      "execution_count": 15,
      "metadata": {
        "id": "6gwwtUff1r_a",
        "colab": {
          "base_uri": "https://localhost:8080/",
          "height": 469
        },
        "outputId": "ba96e2c6-20ea-4776-af13-4220fd1c95d7"
      },
      "outputs": [
        {
          "output_type": "execute_result",
          "data": {
            "text/plain": [
              "<Axes: >"
            ]
          },
          "metadata": {},
          "execution_count": 15
        },
        {
          "output_type": "display_data",
          "data": {
            "text/plain": [
              "<Figure size 640x480 with 1 Axes>"
            ],
            "image/png": "[encoded data removed]"
          },
          "metadata": {
            "image/png": {
              "width": 552,
              "height": 413
            }
          }
        }
      ],
      "source": [
        "data['Binary Class'].hist()"
      ]
    },
    {
      "cell_type": "markdown",
      "metadata": {
        "id": "6H0a0kVQ1r_a"
      },
      "source": [
        "### Create a train and test sets\n",
        "\n",
        "We will simply split the dataset at random. 80% of the data will go to the training set, the rest to the test set. We will use [Numpy's random permutation function](https://docs.scipy.org/doc/numpy-1.15.0/reference/generated/numpy.random.permutation.html) and the `.iloc()` method."
      ]
    },
    {
      "cell_type": "code",
      "execution_count": 16,
      "metadata": {
        "id": "BkGDHuPf1r_b"
      },
      "outputs": [],
      "source": [
        "frac_train = 0.8\n",
        "\n",
        "data_train = int(data.shape[0]*frac_train) # Training points\n",
        "\n",
        "np.random.seed(seed=10) #To fix the random seed. So we all get the same partition\n",
        "\n",
        "mask = np.random.permutation(data.shape[0]) # Random order of data indexes\n",
        "\n",
        "train_data = data.iloc[list(mask[:data_train])].copy()\n",
        "\n",
        "test_data = data.iloc[list(mask[data_train:])].copy()\n"
      ]
    },
    {
      "cell_type": "markdown",
      "metadata": {
        "id": "oRrFFE7Q1r_b"
      },
      "source": [
        "Note that we store the train and test data in separate Dataframes, so we can normalize them without modifying the original data (we could add more columns to the original Dataframe, but this would be later on annoying to index)."
      ]
    },
    {
      "cell_type": "markdown",
      "metadata": {
        "id": "YqHk1wYB1r_b"
      },
      "source": [
        "Also, the train/test partition and normalization can also easily done using Numpy and the [sklearn library](https://scikit-learn.org/stable/)."
      ]
    },
    {
      "cell_type": "markdown",
      "metadata": {
        "id": "gZyaRkcq1r_b"
      },
      "source": [
        "### Normalize input variables\n",
        "\n",
        "In general, it is not recommended that input variables (or features) are defined in different ranges. I.e., $x_1$ for instance takes values in the $[-1,1]$ set and $x_2$ takes values in the $[-10^6,10^6]$ range.\n",
        "\n",
        "To improve both the numerical robustness of our estimators and **enhance interpretability**, we will apply a linear normalization preprocessing stage to use as input to the linear regression features with (sample) mean 0 and (sample) variance equal to 1.\n",
        "\n",
        "Given the unnormalized feature matrix $\\mathbf{X}_{N\\times D}$, we compute the sample mean per feature column, $\\mu_j$, and the sample variance per  feature column, $\\sigma^2_j$ for $j=1,\\ldots,D$. Then, each row of the normalized feature matrix $\\overline{\\mathbf{X}}_{N\\times D}$ is obtained as follows:\n",
        "\n",
        "$$\\overline{\\mathbf{x}}^{(i)}= \\left[\\frac{x_1^{(i)}-\\mu_1}{\\sqrt{\\sigma^2_1}}, ~~ \\frac{x_1^{(i)}-\\mu_2}{\\sqrt{\\sigma^2_2}}, \\ldots, \\frac{x_1^{(D)}-\\mu_1}{\\sqrt{\\sigma^2_D}}\\right]$$\n",
        "\n",
        "**Note this does not affect to the logistic regression solution**, we are simply re-scaling the parameter vector $\\boldsymbol{w}$. Using this scaling, we can now effectively compare the effect that each variable has in the logistic regression solution: **the larger $|w_j|$ is, the more effect the $j$-th feature has in the estimation of the class**.\n",
        "\n",
        "One important aspect is that the test set is normalized **using the train set statistics (mean and variance)**"
      ]
    },
    {
      "cell_type": "code",
      "execution_count": 17,
      "metadata": {
        "id": "h3BFcE-K1r_c"
      },
      "outputs": [],
      "source": [
        "means = train_data.mean()\n",
        "stds = train_data.std()"
      ]
    },
    {
      "cell_type": "code",
      "execution_count": 18,
      "metadata": {
        "id": "3HADhqi31r_c",
        "colab": {
          "base_uri": "https://localhost:8080/"
        },
        "outputId": "24a3ec51-d2a7-4a7c-d253-1e5dd86c6aca"
      },
      "outputs": [
        {
          "output_type": "stream",
          "name": "stdout",
          "text": [
            "Clump Thickness\n",
            "Uniformity of Cell Size\n",
            "Uniformity of Cell Shape\n",
            "Marginal Adhesion\n",
            "Single Epithelial Cell Size\n",
            "Bland Chromatin\n",
            "Normal Nucleoli\n",
            "Mitoses\n"
          ]
        },
        {
          "output_type": "stream",
          "name": "stderr",
          "text": [
            "<ipython-input-18-eb5f03f96428>:3: FutureWarning: Series.__getitem__ treating keys as positions is deprecated. In a future version, integer keys will always be treated as labels (consistent with DataFrame behavior). To access a value by position, use `ser.iloc[pos]`\n",
            "  train_data[column_name] = (train_data[column_name]-means[idx])/(stds[idx])\n",
            "<ipython-input-18-eb5f03f96428>:4: FutureWarning: Series.__getitem__ treating keys as positions is deprecated. In a future version, integer keys will always be treated as labels (consistent with DataFrame behavior). To access a value by position, use `ser.iloc[pos]`\n",
            "  test_data[column_name] = (test_data[column_name]-means[idx])/(stds[idx])\n"
          ]
        }
      ],
      "source": [
        "for idx, column_name in enumerate(train_data.columns[:-1]):\n",
        "    print(column_name)\n",
        "    train_data[column_name] = (train_data[column_name]-means[idx])/(stds[idx])\n",
        "    test_data[column_name] = (test_data[column_name]-means[idx])/(stds[idx])"
      ]
    },
    {
      "cell_type": "markdown",
      "metadata": {
        "id": "9rH8D2pz1r_c"
      },
      "source": [
        "Lets take a look to the resulting dataframe"
      ]
    },
    {
      "cell_type": "code",
      "execution_count": 19,
      "metadata": {
        "id": "kqQ-_LEo1r_c",
        "colab": {
          "base_uri": "https://localhost:8080/",
          "height": 383
        },
        "outputId": "f4e4a3a7-8806-40d6-dccc-a06312c6dce8"
      },
      "outputs": [
        {
          "output_type": "execute_result",
          "data": {
            "text/plain": [
              "     Clump Thickness  Uniformity of Cell Size  Uniformity of Cell Shape  \\\n",
              "285         1.300525                 2.285664                  2.276496   \n",
              "607        -1.212539                -0.700359                 -0.747811   \n",
              "587         0.223498                -0.700359                 -0.747811   \n",
              "458         0.223498                -0.700359                 -0.411777   \n",
              "431         0.223498                -0.700359                 -0.747811   \n",
              "52          2.018543                -0.036799                  0.932359   \n",
              "560         0.223498                -0.700359                 -0.747811   \n",
              "445        -0.853530                -0.700359                 -0.747811   \n",
              "292         1.300525                 1.622103                  1.604428   \n",
              "579        -1.212539                -0.700359                 -0.747811   \n",
              "\n",
              "     Marginal Adhesion  Single Epithelial Cell Size  Bland Chromatin  \\\n",
              "285           2.455409                     2.286331         2.658239   \n",
              "607          -0.642951                    -0.552749        -1.010787   \n",
              "587          -0.642951                    -0.552749        -0.603117   \n",
              "458          -0.642951                    -0.552749        -1.010787   \n",
              "431           0.045573                     0.393611        -0.195448   \n",
              "52           -0.298689                    -0.079569         0.212222   \n",
              "560          -0.642951                    -0.552749        -0.195448   \n",
              "445          -0.642951                    -0.552749        -1.010787   \n",
              "292          -0.642951                    -0.552749         1.027561   \n",
              "579          -0.642951                    -0.552749        -0.195448   \n",
              "\n",
              "     Normal Nucleoli   Mitoses  Binary Class  \n",
              "285         1.330666  0.867001           1.0  \n",
              "607        -0.608106 -0.338605           0.0  \n",
              "587        -0.284977 -0.338605           0.0  \n",
              "458        -0.608106 -0.338605           0.0  \n",
              "431        -0.284977 -0.338605           0.0  \n",
              "52          2.300052  0.264198           1.0  \n",
              "560        -0.608106 -0.338605           0.0  \n",
              "445        -0.608106 -0.338605           0.0  \n",
              "292         2.300052 -0.338605           1.0  \n",
              "579        -0.608106 -0.338605           0.0  "
            ],
            "text/html": [
              "\n",
              "  <div id=\"df-966e7871-966c-4f26-b451-7ecdd0ae93b1\" class=\"colab-df-container\">\n",
              "    <div>\n",
              "<style scoped>\n",
              "    .dataframe tbody tr th:only-of-type {\n",
              "        vertical-align: middle;\n",
              "    }\n",
              "\n",
              "    .dataframe tbody tr th {\n",
              "        vertical-align: top;\n",
              "    }\n",
              "\n",
              "    .dataframe thead th {\n",
              "        text-align: right;\n",
              "    }\n",
              "</style>\n",
              "<table border=\"1\" class=\"dataframe\">\n",
              "  <thead>\n",
              "    <tr style=\"text-align: right;\">\n",
              "      <th></th>\n",
              "      <th>Clump Thickness</th>\n",
              "      <th>Uniformity of Cell Size</th>\n",
              "      <th>Uniformity of Cell Shape</th>\n",
              "      <th>Marginal Adhesion</th>\n",
              "      <th>Single Epithelial Cell Size</th>\n",
              "      <th>Bland Chromatin</th>\n",
              "      <th>Normal Nucleoli</th>\n",
              "      <th>Mitoses</th>\n",
              "      <th>Binary Class</th>\n",
              "    </tr>\n",
              "  </thead>\n",
              "  <tbody>\n",
              "    <tr>\n",
              "      <th>285</th>\n",
              "      <td>1.300525</td>\n",
              "      <td>2.285664</td>\n",
              "      <td>2.276496</td>\n",
              "      <td>2.455409</td>\n",
              "      <td>2.286331</td>\n",
              "      <td>2.658239</td>\n",
              "      <td>1.330666</td>\n",
              "      <td>0.867001</td>\n",
              "      <td>1.0</td>\n",
              "    </tr>\n",
              "    <tr>\n",
              "      <th>607</th>\n",
              "      <td>-1.212539</td>\n",
              "      <td>-0.700359</td>\n",
              "      <td>-0.747811</td>\n",
              "      <td>-0.642951</td>\n",
              "      <td>-0.552749</td>\n",
              "      <td>-1.010787</td>\n",
              "      <td>-0.608106</td>\n",
              "      <td>-0.338605</td>\n",
              "      <td>0.0</td>\n",
              "    </tr>\n",
              "    <tr>\n",
              "      <th>587</th>\n",
              "      <td>0.223498</td>\n",
              "      <td>-0.700359</td>\n",
              "      <td>-0.747811</td>\n",
              "      <td>-0.642951</td>\n",
              "      <td>-0.552749</td>\n",
              "      <td>-0.603117</td>\n",
              "      <td>-0.284977</td>\n",
              "      <td>-0.338605</td>\n",
              "      <td>0.0</td>\n",
              "    </tr>\n",
              "    <tr>\n",
              "      <th>458</th>\n",
              "      <td>0.223498</td>\n",
              "      <td>-0.700359</td>\n",
              "      <td>-0.411777</td>\n",
              "      <td>-0.642951</td>\n",
              "      <td>-0.552749</td>\n",
              "      <td>-1.010787</td>\n",
              "      <td>-0.608106</td>\n",
              "      <td>-0.338605</td>\n",
              "      <td>0.0</td>\n",
              "    </tr>\n",
              "    <tr>\n",
              "      <th>431</th>\n",
              "      <td>0.223498</td>\n",
              "      <td>-0.700359</td>\n",
              "      <td>-0.747811</td>\n",
              "      <td>0.045573</td>\n",
              "      <td>0.393611</td>\n",
              "      <td>-0.195448</td>\n",
              "      <td>-0.284977</td>\n",
              "      <td>-0.338605</td>\n",
              "      <td>0.0</td>\n",
              "    </tr>\n",
              "    <tr>\n",
              "      <th>52</th>\n",
              "      <td>2.018543</td>\n",
              "      <td>-0.036799</td>\n",
              "      <td>0.932359</td>\n",
              "      <td>-0.298689</td>\n",
              "      <td>-0.079569</td>\n",
              "      <td>0.212222</td>\n",
              "      <td>2.300052</td>\n",
              "      <td>0.264198</td>\n",
              "      <td>1.0</td>\n",
              "    </tr>\n",
              "    <tr>\n",
              "      <th>560</th>\n",
              "      <td>0.223498</td>\n",
              "      <td>-0.700359</td>\n",
              "      <td>-0.747811</td>\n",
              "      <td>-0.642951</td>\n",
              "      <td>-0.552749</td>\n",
              "      <td>-0.195448</td>\n",
              "      <td>-0.608106</td>\n",
              "      <td>-0.338605</td>\n",
              "      <td>0.0</td>\n",
              "    </tr>\n",
              "    <tr>\n",
              "      <th>445</th>\n",
              "      <td>-0.853530</td>\n",
              "      <td>-0.700359</td>\n",
              "      <td>-0.747811</td>\n",
              "      <td>-0.642951</td>\n",
              "      <td>-0.552749</td>\n",
              "      <td>-1.010787</td>\n",
              "      <td>-0.608106</td>\n",
              "      <td>-0.338605</td>\n",
              "      <td>0.0</td>\n",
              "    </tr>\n",
              "    <tr>\n",
              "      <th>292</th>\n",
              "      <td>1.300525</td>\n",
              "      <td>1.622103</td>\n",
              "      <td>1.604428</td>\n",
              "      <td>-0.642951</td>\n",
              "      <td>-0.552749</td>\n",
              "      <td>1.027561</td>\n",
              "      <td>2.300052</td>\n",
              "      <td>-0.338605</td>\n",
              "      <td>1.0</td>\n",
              "    </tr>\n",
              "    <tr>\n",
              "      <th>579</th>\n",
              "      <td>-1.212539</td>\n",
              "      <td>-0.700359</td>\n",
              "      <td>-0.747811</td>\n",
              "      <td>-0.642951</td>\n",
              "      <td>-0.552749</td>\n",
              "      <td>-0.195448</td>\n",
              "      <td>-0.608106</td>\n",
              "      <td>-0.338605</td>\n",
              "      <td>0.0</td>\n",
              "    </tr>\n",
              "  </tbody>\n",
              "</table>\n",
              "</div>\n",
              "    <div class=\"colab-df-buttons\">\n",
              "\n",
              "  <div class=\"colab-df-container\">\n",
              "    <button class=\"colab-df-convert\" onclick=\"convertToInteractive('df-966e7871-966c-4f26-b451-7ecdd0ae93b1')\"\n",
              "            title=\"Convert this dataframe to an interactive table.\"\n",
              "            style=\"display:none;\">\n",
              "\n",
              "  <svg xmlns=\"http://www.w3.org/2000/svg\" height=\"24px\" viewBox=\"0 -960 960 960\">\n",
              "    <path d=\"M120-120v-720h720v720H120Zm60-500h600v-160H180v160Zm220 220h160v-160H400v160Zm0 220h160v-160H400v160ZM180-400h160v-160H180v160Zm440 0h160v-160H620v160ZM180-180h160v-160H180v160Zm440 0h160v-160H620v160Z\"/>\n",
              "  </svg>\n",
              "    </button>\n",
              "\n",
              "  <style>\n",
              "    .colab-df-container {\n",
              "      display:flex;\n",
              "      gap: 12px;\n",
              "    }\n",
              "\n",
              "    .colab-df-convert {\n",
              "      background-color: #E8F0FE;\n",
              "      border: none;\n",
              "      border-radius: 50%;\n",
              "      cursor: pointer;\n",
              "      display: none;\n",
              "      fill: #1967D2;\n",
              "      height: 32px;\n",
              "      padding: 0 0 0 0;\n",
              "      width: 32px;\n",
              "    }\n",
              "\n",
              "    .colab-df-convert:hover {\n",
              "      background-color: #E2EBFA;\n",
              "      box-shadow: 0px 1px 2px rgba(60, 64, 67, 0.3), 0px 1px 3px 1px rgba(60, 64, 67, 0.15);\n",
              "      fill: #174EA6;\n",
              "    }\n",
              "\n",
              "    .colab-df-buttons div {\n",
              "      margin-bottom: 4px;\n",
              "    }\n",
              "\n",
              "    [theme=dark] .colab-df-convert {\n",
              "      background-color: #3B4455;\n",
              "      fill: #D2E3FC;\n",
              "    }\n",
              "\n",
              "    [theme=dark] .colab-df-convert:hover {\n",
              "      background-color: #434B5C;\n",
              "      box-shadow: 0px 1px 3px 1px rgba(0, 0, 0, 0.15);\n",
              "      filter: drop-shadow(0px 1px 2px rgba(0, 0, 0, 0.3));\n",
              "      fill: #FFFFFF;\n",
              "    }\n",
              "  </style>\n",
              "\n",
              "    <script>\n",
              "      const buttonEl =\n",
              "        document.querySelector('#df-966e7871-966c-4f26-b451-7ecdd0ae93b1 button.colab-df-convert');\n",
              "      buttonEl.style.display =\n",
              "        google.colab.kernel.accessAllowed ? 'block' : 'none';\n",
              "\n",
              "      async function convertToInteractive(key) {\n",
              "        const element = document.querySelector('#df-966e7871-966c-4f26-b451-7ecdd0ae93b1');\n",
              "        const dataTable =\n",
              "          await google.colab.kernel.invokeFunction('convertToInteractive',\n",
              "                                                    [key], {});\n",
              "        if (!dataTable) return;\n",
              "\n",
              "        const docLinkHtml = 'Like what you see? Visit the ' +\n",
              "          '<a target=\"_blank\" href=https://colab.research.google.com/notebooks/data_table.ipynb>data table notebook</a>'\n",
              "          + ' to learn more about interactive tables.';\n",
              "        element.innerHTML = '';\n",
              "        dataTable['output_type'] = 'display_data';\n",
              "        await google.colab.output.renderOutput(dataTable, element);\n",
              "        const docLink = document.createElement('div');\n",
              "        docLink.innerHTML = docLinkHtml;\n",
              "        element.appendChild(docLink);\n",
              "      }\n",
              "    </script>\n",
              "  </div>\n",
              "\n",
              "\n",
              "<div id=\"df-e81715d7-bf3b-4da6-a3ce-52ff979da628\">\n",
              "  <button class=\"colab-df-quickchart\" onclick=\"quickchart('df-e81715d7-bf3b-4da6-a3ce-52ff979da628')\"\n",
              "            title=\"Suggest charts\"\n",
              "            style=\"display:none;\">\n",
              "\n",
              "<svg xmlns=\"http://www.w3.org/2000/svg\" height=\"24px\"viewBox=\"0 0 24 24\"\n",
              "     width=\"24px\">\n",
              "    <g>\n",
              "        <path d=\"M19 3H5c-1.1 0-2 .9-2 2v14c0 1.1.9 2 2 2h14c1.1 0 2-.9 2-2V5c0-1.1-.9-2-2-2zM9 17H7v-7h2v7zm4 0h-2V7h2v10zm4 0h-2v-4h2v4z\"/>\n",
              "    </g>\n",
              "</svg>\n",
              "  </button>\n",
              "\n",
              "<style>\n",
              "  .colab-df-quickchart {\n",
              "      --bg-color: #E8F0FE;\n",
              "      --fill-color: #1967D2;\n",
              "      --hover-bg-color: #E2EBFA;\n",
              "      --hover-fill-color: #174EA6;\n",
              "      --disabled-fill-color: #AAA;\n",
              "      --disabled-bg-color: #DDD;\n",
              "  }\n",
              "\n",
              "  [theme=dark] .colab-df-quickchart {\n",
              "      --bg-color: #3B4455;\n",
              "      --fill-color: #D2E3FC;\n",
              "      --hover-bg-color: #434B5C;\n",
              "      --hover-fill-color: #FFFFFF;\n",
              "      --disabled-bg-color: #3B4455;\n",
              "      --disabled-fill-color: #666;\n",
              "  }\n",
              "\n",
              "  .colab-df-quickchart {\n",
              "    background-color: var(--bg-color);\n",
              "    border: none;\n",
              "    border-radius: 50%;\n",
              "    cursor: pointer;\n",
              "    display: none;\n",
              "    fill: var(--fill-color);\n",
              "    height: 32px;\n",
              "    padding: 0;\n",
              "    width: 32px;\n",
              "  }\n",
              "\n",
              "  .colab-df-quickchart:hover {\n",
              "    background-color: var(--hover-bg-color);\n",
              "    box-shadow: 0 1px 2px rgba(60, 64, 67, 0.3), 0 1px 3px 1px rgba(60, 64, 67, 0.15);\n",
              "    fill: var(--button-hover-fill-color);\n",
              "  }\n",
              "\n",
              "  .colab-df-quickchart-complete:disabled,\n",
              "  .colab-df-quickchart-complete:disabled:hover {\n",
              "    background-color: var(--disabled-bg-color);\n",
              "    fill: var(--disabled-fill-color);\n",
              "    box-shadow: none;\n",
              "  }\n",
              "\n",
              "  .colab-df-spinner {\n",
              "    border: 2px solid var(--fill-color);\n",
              "    border-color: transparent;\n",
              "    border-bottom-color: var(--fill-color);\n",
              "    animation:\n",
              "      spin 1s steps(1) infinite;\n",
              "  }\n",
              "\n",
              "  @keyframes spin {\n",
              "    0% {\n",
              "      border-color: transparent;\n",
              "      border-bottom-color: var(--fill-color);\n",
              "      border-left-color: var(--fill-color);\n",
              "    }\n",
              "    20% {\n",
              "      border-color: transparent;\n",
              "      border-left-color: var(--fill-color);\n",
              "      border-top-color: var(--fill-color);\n",
              "    }\n",
              "    30% {\n",
              "      border-color: transparent;\n",
              "      border-left-color: var(--fill-color);\n",
              "      border-top-color: var(--fill-color);\n",
              "      border-right-color: var(--fill-color);\n",
              "    }\n",
              "    40% {\n",
              "      border-color: transparent;\n",
              "      border-right-color: var(--fill-color);\n",
              "      border-top-color: var(--fill-color);\n",
              "    }\n",
              "    60% {\n",
              "      border-color: transparent;\n",
              "      border-right-color: var(--fill-color);\n",
              "    }\n",
              "    80% {\n",
              "      border-color: transparent;\n",
              "      border-right-color: var(--fill-color);\n",
              "      border-bottom-color: var(--fill-color);\n",
              "    }\n",
              "    90% {\n",
              "      border-color: transparent;\n",
              "      border-bottom-color: var(--fill-color);\n",
              "    }\n",
              "  }\n",
              "</style>\n",
              "\n",
              "  <script>\n",
              "    async function quickchart(key) {\n",
              "      const quickchartButtonEl =\n",
              "        document.querySelector('#' + key + ' button');\n",
              "      quickchartButtonEl.disabled = true;  // To prevent multiple clicks.\n",
              "      quickchartButtonEl.classList.add('colab-df-spinner');\n",
              "      try {\n",
              "        const charts = await google.colab.kernel.invokeFunction(\n",
              "            'suggestCharts', [key], {});\n",
              "      } catch (error) {\n",
              "        console.error('Error during call to suggestCharts:', error);\n",
              "      }\n",
              "      quickchartButtonEl.classList.remove('colab-df-spinner');\n",
              "      quickchartButtonEl.classList.add('colab-df-quickchart-complete');\n",
              "    }\n",
              "    (() => {\n",
              "      let quickchartButtonEl =\n",
              "        document.querySelector('#df-e81715d7-bf3b-4da6-a3ce-52ff979da628 button');\n",
              "      quickchartButtonEl.style.display =\n",
              "        google.colab.kernel.accessAllowed ? 'block' : 'none';\n",
              "    })();\n",
              "  </script>\n",
              "</div>\n",
              "\n",
              "    </div>\n",
              "  </div>\n"
            ],
            "application/vnd.google.colaboratory.intrinsic+json": {
              "type": "dataframe",
              "variable_name": "train_data",
              "summary": "{\n  \"name\": \"train_data\",\n  \"rows\": 559,\n  \"fields\": [\n    {\n      \"column\": \"Clump Thickness\",\n      \"properties\": {\n        \"dtype\": \"number\",\n        \"std\": 1.0,\n        \"min\": -1.2125387662652203,\n        \"max\": 2.018543083883256,\n        \"num_unique_values\": 10,\n        \"samples\": [\n          1.6595339894223144,\n          -1.2125387662652203,\n          -0.49452057734333665\n        ],\n        \"semantic_type\": \"\",\n        \"description\": \"\"\n      }\n    },\n    {\n      \"column\": \"Uniformity of Cell Size\",\n      \"properties\": {\n        \"dtype\": \"number\",\n        \"std\": 0.9999999999999998,\n        \"min\": -0.7003592445795535,\n        \"max\": 2.2856639414202204,\n        \"num_unique_values\": 10,\n        \"samples\": [\n          1.2903228794202959,\n          -0.7003592445795535,\n          0.2949818174203712\n        ],\n        \"semantic_type\": \"\",\n        \"description\": \"\"\n      }\n    },\n    {\n      \"column\": \"Uniformity of Cell Shape\",\n      \"properties\": {\n        \"dtype\": \"number\",\n        \"std\": 1.0,\n        \"min\": -0.747811103405593,\n        \"max\": 2.276495698229084,\n        \"num_unique_values\": 10,\n        \"samples\": [\n          0.26029116380596606,\n          -0.747811103405593,\n          -0.0757429252645536\n        ],\n        \"semantic_type\": \"\",\n        \"description\": \"\"\n      }\n    },\n    {\n      \"column\": \"Marginal Adhesion\",\n      \"properties\": {\n        \"dtype\": \"number\",\n        \"std\": 1.0,\n        \"min\": -0.6429514161707391,\n        \"max\": 2.455409287617565,\n        \"num_unique_values\": 10,\n        \"samples\": [\n          1.4226223863547969,\n          -0.6429514161707391,\n          0.7340977855129514\n        ],\n        \"semantic_type\": \"\",\n        \"description\": \"\"\n      }\n    },\n    {\n      \"column\": \"Single Epithelial Cell Size\",\n      \"properties\": {\n        \"dtype\": \"number\",\n        \"std\": 1.0,\n        \"min\": -1.0259284133367494,\n        \"max\": 3.232690272717035,\n        \"num_unique_values\": 10,\n        \"samples\": [\n          1.813150710699107,\n          -0.5527485593307735,\n          1.3399708566931308\n        ],\n        \"semantic_type\": \"\",\n        \"description\": \"\"\n      }\n    },\n    {\n      \"column\": \"Bland Chromatin\",\n      \"properties\": {\n        \"dtype\": \"number\",\n        \"std\": 1.0,\n        \"min\": -1.0107869900993676,\n        \"max\": 2.658238512923661,\n        \"num_unique_values\": 10,\n        \"samples\": [\n          1.842899512251877,\n          -1.0107869900993676,\n          1.027560511580093\n        ],\n        \"semantic_type\": \"\",\n        \"description\": \"\"\n      }\n    },\n    {\n      \"column\": \"Normal Nucleoli\",\n      \"properties\": {\n        \"dtype\": \"number\",\n        \"std\": 0.9999999999999999,\n        \"min\": -0.6081061208043597,\n        \"max\": 2.3000515728902537,\n        \"num_unique_values\": 10,\n        \"samples\": [\n          0.03815114446111005,\n          -0.6081061208043597,\n          0.3612797770938449\n        ],\n        \"semantic_type\": \"\",\n        \"description\": \"\"\n      }\n    },\n    {\n      \"column\": \"Mitoses\",\n      \"properties\": {\n        \"dtype\": \"number\",\n        \"std\": 1.0,\n        \"min\": -0.33860467777628966,\n        \"max\": 5.0866186785692955,\n        \"num_unique_values\": 9,\n        \"samples\": [\n          3.8810134882702765,\n          -0.33860467777628966,\n          3.2782108931207667\n        ],\n        \"semantic_type\": \"\",\n        \"description\": \"\"\n      }\n    },\n    {\n      \"column\": \"Binary Class\",\n      \"properties\": {\n        \"dtype\": \"number\",\n        \"std\": 0.47645763838501115,\n        \"min\": 0.0,\n        \"max\": 1.0,\n        \"num_unique_values\": 2,\n        \"samples\": [\n          0.0,\n          1.0\n        ],\n        \"semantic_type\": \"\",\n        \"description\": \"\"\n      }\n    }\n  ]\n}"
            }
          },
          "metadata": {},
          "execution_count": 19
        }
      ],
      "source": [
        "train_data.head(10)"
      ]
    },
    {
      "cell_type": "markdown",
      "metadata": {
        "id": "kH3oBodS1r_c"
      },
      "source": [
        "## Part II. Tensors in Pytorch\n",
        "\n",
        "\n",
        "Note: a big part of the following material is a personal wrap-up of [Facebook's Deep Learning Course in Udacity](https://www.udacity.com/course/deep-learning-pytorch--ud188). So all credit goes for them!!\n",
        "\n",
        "PyTorch in a lot of ways behaves like  Numpy arrays. PyTorch takes these tensors and makes it simple to move them to GPUs for the faster processing needed when training neural networks. It also provides a module that automatically calculates gradients and another module specifically for building neural networks.\n",
        "\n",
        "It turns out neural network computations are just a bunch of linear algebra operations on *tensors*, a generalization of matrices. A vector is a 1-dimensional tensor, a matrix is a 2-dimensional tensor, an array with three indices is a 3-dimensional tensor (RGB color images for example). The fundamental data structure for neural networks are tensors and PyTorch (as well as pretty much every other deep learning framework) is built around tensors.\n"
      ]
    },
    {
      "cell_type": "markdown",
      "metadata": {
        "id": "LLwIDXnI1r_d"
      },
      "source": [
        "### Creating and manipulating tensors"
      ]
    },
    {
      "cell_type": "code",
      "execution_count": 20,
      "metadata": {
        "id": "2zEMgDQN1r_d"
      },
      "outputs": [],
      "source": [
        "# First, import PyTorch\n",
        "import torch"
      ]
    },
    {
      "cell_type": "code",
      "execution_count": 21,
      "metadata": {
        "id": "8AwqDkge1r_d",
        "colab": {
          "base_uri": "https://localhost:8080/",
          "height": 56
        },
        "outputId": "1e86e4ce-2ba8-4d39-c8cc-84b842bbdf27"
      },
      "outputs": [
        {
          "output_type": "execute_result",
          "data": {
            "text/plain": [
              "'2.4.1+cu121'"
            ],
            "application/vnd.google.colaboratory.intrinsic+json": {
              "type": "string"
            }
          },
          "metadata": {},
          "execution_count": 21
        }
      ],
      "source": [
        "# To check what torch version you're using\n",
        "\n",
        "torch.__version__"
      ]
    },
    {
      "cell_type": "markdown",
      "metadata": {
        "id": "oeOZRVcM1r_d"
      },
      "source": [
        "Lets create a function to manipulate torch tensors. Let's program our own logistic regressor\n",
        "\n",
        "$$f(\\mathbf{x}) = \\frac{1}{1+\\exp-(\\mathbf{w}^T\\mathbf{x}+w_0)}=\\sigma(\\cdot)$$\n",
        "\n",
        "where $\\mathbf{w}$ and $w_0$ (the bias or intercept) are initialized with Pytorch tensors containing random numbers drawn from a i.i.d. Normal Gaussian distribution. Also, to test the function, we will generate data points $\\mathbf{x}$ also as random tensors.\n",
        "\n",
        "#### First we define the sigmoid function $\\sigma(\\cdot)$"
      ]
    },
    {
      "cell_type": "code",
      "execution_count": 22,
      "metadata": {
        "id": "zsmb0Y7i1r_d"
      },
      "outputs": [],
      "source": [
        "def sigmoid(x):\n",
        "    \"\"\" Sigmoid activation function\n",
        "\n",
        "        Arguments\n",
        "        ---------\n",
        "        x: torch.Tensor\n",
        "    \"\"\"\n",
        "    return 1/(1+torch.exp(-x))"
      ]
    },
    {
      "cell_type": "markdown",
      "metadata": {
        "id": "fnQYScH91r_e"
      },
      "source": [
        "#### Now we generate the parameters $\\mathbf{w},w_0$ and one input vector (feature vector) $\\mathbf{x}$"
      ]
    },
    {
      "cell_type": "code",
      "execution_count": 23,
      "metadata": {
        "id": "f19ppyI51r_e"
      },
      "outputs": [],
      "source": [
        "torch.manual_seed(7) # Set the random seed so things are predictable\n",
        "\n",
        "# Features are 5 random normal variables\n",
        "feature_vector = torch.randn((1, 5))\n",
        "# True weights for our data, random normal variables again\n",
        "weights = torch.randn_like(feature_vector)\n",
        "# and a true bias term\n",
        "bias = torch.randn((1, 1))"
      ]
    },
    {
      "cell_type": "markdown",
      "metadata": {
        "id": "esr6Sd2c1r_e"
      },
      "source": [
        "Above we generated data we can use to get the output of our simple neural network. This is all just random for now, going forward we'll start using normal data. Going through each relevant line:\n",
        "\n",
        "`features = torch.randn((1, 5))` creates a tensor with shape `(1, 5)`, one row and five columns, that contains values randomly distributed according to the normal distribution with a mean of zero and standard deviation of one.\n",
        "\n",
        "`weights = torch.randn_like(features)` creates another tensor with the same shape as `features`, again containing values from a normal distribution.\n",
        "\n",
        "Finally, `bias = torch.randn((1, 1))` creates a single value from a normal distribution.\n",
        "\n",
        "PyTorch tensors can be added, multiplied, subtracted, etc, just like Numpy arrays. In general, you'll use PyTorch tensors pretty much the same way you'd use Numpy arrays.\n",
        "\n",
        "Just like in Numpy, you can check the values and dimensions of a tensor:\n"
      ]
    },
    {
      "cell_type": "code",
      "execution_count": 24,
      "metadata": {
        "colab": {
          "base_uri": "https://localhost:8080/"
        },
        "id": "ZWkDaoQ71r_e",
        "outputId": "45207742-6451-4c0b-d3b9-07db1baa4418"
      },
      "outputs": [
        {
          "output_type": "stream",
          "name": "stdout",
          "text": [
            "tensor([[-0.1468,  0.7861,  0.9468, -1.1143,  1.6908]])\n",
            "The dimensions are 1, 5\n"
          ]
        }
      ],
      "source": [
        "print(feature_vector)\n",
        "m, n = feature_vector.shape\n",
        "print(\"The dimensions are {0}, {1}\".format(m, n))"
      ]
    },
    {
      "cell_type": "markdown",
      "metadata": {
        "id": "lMmLi7VT1r_e"
      },
      "source": [
        "> **Exercise**: Using the `sigmoid()` function, calculate the output a binary logistic regressor with input feature vector `feature_vector`, weights `weights`, and bias `bias`. You can use `*` for Tensor elemenwise product and the function  [`torch.sum()`](https://pytorch.org/docs/stable/torch.html#torch.sum) to sum all the elements of a tensor in a certain dimension."
      ]
    },
    {
      "cell_type": "code",
      "execution_count": 25,
      "metadata": {
        "id": "RleqXVrA1r_e"
      },
      "outputs": [],
      "source": [
        "### YOUR CODE HERE\n",
        "y = sigmoid(torch.sum(feature_vector*weights)+bias)\n"
      ]
    },
    {
      "cell_type": "code",
      "execution_count": 26,
      "metadata": {
        "id": "iqVNG3IOx-mo",
        "colab": {
          "base_uri": "https://localhost:8080/"
        },
        "outputId": "561db624-bd6a-45fd-a36f-f017fb37e61b"
      },
      "outputs": [
        {
          "output_type": "stream",
          "name": "stdout",
          "text": [
            "The ouput of the LR is 0.15950655937194824\n"
          ]
        }
      ],
      "source": [
        "print(\"The ouput of the LR is {0}\".format(y[0][0]))"
      ]
    },
    {
      "cell_type": "markdown",
      "metadata": {
        "id": "c3eIkdSN1r_f"
      },
      "source": [
        "#### Do the same but using matrix multiplication with `torch.mm()`\n",
        "\n",
        "\n",
        "You can do the multiplication and sum in the same operation using a matrix multiplication. In general, you'll want to use matrix multiplications since they are more efficient and accelerated using modern libraries and high-performance computing on GPUs.  For this we can use [`torch.mm()`](https://pytorch.org/docs/stable/torch.html#torch.mm) or [`torch.matmul()`](https://pytorch.org/docs/stable/torch.html#torch.matmul) which is somewhat more complicated and supports broadcasting.\n",
        "\n",
        "First, check the dimension of `feature_vector` and `weights` using the method `.shape`"
      ]
    },
    {
      "cell_type": "code",
      "execution_count": 27,
      "metadata": {
        "colab": {
          "base_uri": "https://localhost:8080/"
        },
        "id": "CYrOhwJE1r_f",
        "outputId": "ea3eb6e2-d314-481a-fa1a-86afb78aa5d7"
      },
      "outputs": [
        {
          "output_type": "stream",
          "name": "stdout",
          "text": [
            "torch.Size([1, 5])\n",
            "torch.Size([1, 5])\n"
          ]
        }
      ],
      "source": [
        "print(feature_vector.shape)\n",
        "print(weights.shape)"
      ]
    },
    {
      "cell_type": "markdown",
      "metadata": {
        "id": "HHxHS_GW1r_f"
      },
      "source": [
        "See what comes if you try to directly multiply both tensors"
      ]
    },
    {
      "cell_type": "code",
      "execution_count": 28,
      "metadata": {
        "id": "ESULD5pX1r_f",
        "colab": {
          "base_uri": "https://localhost:8080/"
        },
        "outputId": "82e11a45-0203-4437-a885-747ac9bc9709"
      },
      "outputs": [
        {
          "output_type": "execute_result",
          "data": {
            "text/plain": [
              "tensor([[-1.9796]])"
            ]
          },
          "metadata": {},
          "execution_count": 28
        }
      ],
      "source": [
        "torch.mm(feature_vector, weights.T)"
      ]
    },
    {
      "cell_type": "markdown",
      "metadata": {
        "id": "ZVpMPaLm1r_f"
      },
      "source": [
        "What's happening here is our tensors aren't the correct shapes to perform a matrix multiplication. There are a few options here: [`weights.reshape()`](https://pytorch.org/docs/stable/tensors.html#torch.Tensor.reshape), and [`weights.view()`](https://pytorch.org/docs/stable/tensors.html#torch.Tensor.view).\n",
        "\n",
        "* `weights.reshape(a, b)` will return a new tensor with the same data as `weights` with size `(a, b)` sometimes, and sometimes a clone, as in it copies the data to another part of memory.\n",
        "* `weights.view(a, b)` will return a new tensor with the same data as `weights` with size `(a, b)`.\n",
        "\n",
        "Any of the two methods will work for this. So, now we can reshape `weights` to have five rows and one column with something like `weights.view(5, 1)`.\n",
        "\n",
        "\n",
        "> **Exercise**: Calculate the output of the logistic regressor using matrix multiplication."
      ]
    },
    {
      "cell_type": "code",
      "execution_count": 31,
      "metadata": {
        "id": "JU8pRYCA1r_f"
      },
      "outputs": [],
      "source": [
        "# YOUR CODE HERE\n",
        "weights = weights.view(5, 1)\n",
        "y = sigmoid(torch.mm(feature_vector, weights)+bias)"
      ]
    },
    {
      "cell_type": "code",
      "execution_count": 32,
      "metadata": {
        "id": "Q6YACiru1r_f",
        "colab": {
          "base_uri": "https://localhost:8080/"
        },
        "outputId": "7db8dc3b-e5cd-4f45-e6e2-2967d425dff7"
      },
      "outputs": [
        {
          "output_type": "stream",
          "name": "stdout",
          "text": [
            "The ouput of the LR is 0.15950657427310944\n"
          ]
        }
      ],
      "source": [
        "print(\"The ouput of the LR is {0}\".format(y[0][0]))"
      ]
    },
    {
      "cell_type": "markdown",
      "metadata": {
        "id": "vyacVpz11r_g"
      },
      "source": [
        "### Numpy to Torch and back\n",
        "\n",
        "PyTorch has a feature for converting between Numpy arrays and Torch tensors. To create a tensor from a Numpy array, use `torch.from_numpy()`. To convert a tensor to a Numpy array, use the `.numpy()` method."
      ]
    },
    {
      "cell_type": "code",
      "execution_count": 33,
      "metadata": {
        "id": "xn8IvpIy1r_g",
        "colab": {
          "base_uri": "https://localhost:8080/"
        },
        "outputId": "cfec2476-d2af-4905-c772-f122c39455b9"
      },
      "outputs": [
        {
          "output_type": "execute_result",
          "data": {
            "text/plain": [
              "array([[0.29507589, 0.18333855, 0.01973246],\n",
              "       [0.74332123, 0.0382934 , 0.43367967],\n",
              "       [0.83208476, 0.01345856, 0.50933539],\n",
              "       [0.4795487 , 0.02965494, 0.01142853]])"
            ]
          },
          "metadata": {},
          "execution_count": 33
        }
      ],
      "source": [
        "a = np.random.rand(4,3)\n",
        "a"
      ]
    },
    {
      "cell_type": "code",
      "execution_count": 34,
      "metadata": {
        "id": "y8-knMQq1r_g",
        "colab": {
          "base_uri": "https://localhost:8080/"
        },
        "outputId": "ab91c757-6e5a-4294-f0bd-7327e8e5b6d2"
      },
      "outputs": [
        {
          "output_type": "execute_result",
          "data": {
            "text/plain": [
              "tensor([[0.2951, 0.1833, 0.0197],\n",
              "        [0.7433, 0.0383, 0.4337],\n",
              "        [0.8321, 0.0135, 0.5093],\n",
              "        [0.4795, 0.0297, 0.0114]], dtype=torch.float64)"
            ]
          },
          "metadata": {},
          "execution_count": 34
        }
      ],
      "source": [
        "b = torch.from_numpy(a)\n",
        "b"
      ]
    },
    {
      "cell_type": "code",
      "execution_count": 35,
      "metadata": {
        "id": "N3iLqM6r1r_g",
        "colab": {
          "base_uri": "https://localhost:8080/"
        },
        "outputId": "46b7b888-133f-438e-9e7e-c1c0b1d5007a"
      },
      "outputs": [
        {
          "output_type": "execute_result",
          "data": {
            "text/plain": [
              "array([[0.29507589, 0.18333855, 0.01973246],\n",
              "       [0.74332123, 0.0382934 , 0.43367967],\n",
              "       [0.83208476, 0.01345856, 0.50933539],\n",
              "       [0.4795487 , 0.02965494, 0.01142853]])"
            ]
          },
          "metadata": {},
          "execution_count": 35
        }
      ],
      "source": [
        "b.numpy()"
      ]
    },
    {
      "cell_type": "markdown",
      "metadata": {
        "id": "gPFAjlZ11r_g"
      },
      "source": [
        "The **memory is shared between the Numpy array and Torch tensor**, so if you change the values in-place of one object, the other will change as well."
      ]
    },
    {
      "cell_type": "code",
      "execution_count": 36,
      "metadata": {
        "id": "ZudWJ3h81r_g",
        "colab": {
          "base_uri": "https://localhost:8080/"
        },
        "outputId": "b080c535-debb-48e7-a9f8-1d13f2a0da1a"
      },
      "outputs": [
        {
          "output_type": "execute_result",
          "data": {
            "text/plain": [
              "tensor([[0.5902, 0.3667, 0.0395],\n",
              "        [1.4866, 0.0766, 0.8674],\n",
              "        [1.6642, 0.0269, 1.0187],\n",
              "        [0.9591, 0.0593, 0.0229]], dtype=torch.float64)"
            ]
          },
          "metadata": {},
          "execution_count": 36
        }
      ],
      "source": [
        "# Multiply PyTorch Tensor by 2, in place (Note the _)\n",
        "b.mul_(2)"
      ]
    },
    {
      "cell_type": "code",
      "execution_count": 37,
      "metadata": {
        "id": "OjXoCyz01r_g",
        "colab": {
          "base_uri": "https://localhost:8080/"
        },
        "outputId": "0ecba688-daf2-451c-e612-5df105303923"
      },
      "outputs": [
        {
          "output_type": "execute_result",
          "data": {
            "text/plain": [
              "array([[0.59015179, 0.3666771 , 0.03946492],\n",
              "       [1.48664246, 0.07658681, 0.86735934],\n",
              "       [1.66416952, 0.02691712, 1.01867078],\n",
              "       [0.9590974 , 0.05930988, 0.02285705]])"
            ]
          },
          "metadata": {},
          "execution_count": 37
        }
      ],
      "source": [
        "# Numpy array matches new values from Tensor\n",
        "a"
      ]
    },
    {
      "cell_type": "markdown",
      "metadata": {
        "id": "BU56e4X71r_g"
      },
      "source": [
        "## Part III. Define a logistic regression and the loss function in Pytorch\n",
        "\n",
        "### The `nn.()` module\n",
        "\n",
        "PyTorch provides a module `nn` that makes building neural networks much simpler.\n"
      ]
    },
    {
      "cell_type": "code",
      "execution_count": 38,
      "metadata": {
        "id": "KNa0bplb1r_g"
      },
      "outputs": [],
      "source": [
        "from torch import nn"
      ]
    },
    {
      "cell_type": "markdown",
      "metadata": {
        "id": "WjXkUJaW1r_h"
      },
      "source": [
        "You should get use to inspect [Pytorch official documentation](https://pytorch.org/docs/stable/index.html) to understand the structure and usability of methods and classes required to work with Pytorch and train neural networks.\n",
        "\n",
        "With the following code I show you how to create a Logistic Regression network whose parameters will be later on optimized for our data."
      ]
    },
    {
      "cell_type": "code",
      "execution_count": 39,
      "metadata": {
        "id": "9EEM5c3I1r_h"
      },
      "outputs": [],
      "source": [
        "class LR(nn.Module):\n",
        "    def __init__(self, dimx):\n",
        "        super().__init__()\n",
        "\n",
        "        self.weights = nn.Parameter(torch.randn(dimx, 1), requires_grad = True)\n",
        "\n",
        "        self.bias = nn.Parameter(torch.randn(1, 1), requires_grad = True)\n",
        "\n",
        "        # Define sigmoid activation and softmax output\n",
        "        self.sigmoid = nn.Sigmoid()\n",
        "\n",
        "    def forward(self, x):\n",
        "        # Pass the input tensor through each of our operations\n",
        "        x = self.sigmoid(torch.matmul(x, self.weights)+self.bias)\n",
        "        return x"
      ]
    },
    {
      "cell_type": "markdown",
      "metadata": {
        "id": "DxGXhgdS1r_h"
      },
      "source": [
        "Let's go through this step by step.\n",
        "\n",
        "```python\n",
        "class Network(nn.Module):\n",
        "```\n",
        "\n",
        "Here we're inheriting from `nn.Module`. Combined with `super().__init__()` this creates a class that tracks the architecture and provides a lot of useful methods and attributes. It is mandatory to inherit from `nn.Module` when you're creating a class for your neural network. The name of the class itself can be anything.\n",
        "\n",
        "```python\n",
        "self.weights = nn.Parameter(torch.randn(dimx,1),requires_grad = True)\n",
        "self.bias = nn.Parameter(torch.randn(1,1),requires_grad = True)\n",
        "```\n",
        "\n",
        "The Parameter class defines a kind of Tensor that is to be considered a module parameter. Namely, we will optimize the values of these tensors. Note that we define a **random initialization** with `torch.randn()`.\n",
        "\n",
        "```python\n",
        "def forward(self, x):\n",
        "```\n",
        "\n",
        "PyTorch networks created with `nn.Module` must have a `forward` method defined. It takes in a tensor `x` and passes it through the operations you defined in the `__init__` method.\n"
      ]
    },
    {
      "cell_type": "markdown",
      "metadata": {
        "id": "JrOBL6CH1r_h"
      },
      "source": [
        "### A more compact definition of the network using pre-defined layers\n",
        "\n",
        "The `.nn` package provides us with predefined layers and operators so that the implementation of our networks is indeed much easier (and compact). The following code performs exactly as the class `LR` defined above."
      ]
    },
    {
      "cell_type": "code",
      "execution_count": 40,
      "metadata": {
        "id": "nVQV6X3_1r_h"
      },
      "outputs": [],
      "source": [
        "class LR_compact(nn.Module):\n",
        "    def __init__(self,dimx):\n",
        "        super().__init__()\n",
        "\n",
        "        self.output = nn.Linear(dimx, 1)\n",
        "\n",
        "        # Define sigmoid activation and softmax output\n",
        "        self.sigmoid = nn.Sigmoid()\n",
        "\n",
        "    def forward(self, x):\n",
        "        # Pass the input tensor through each of our operations\n",
        "        x = self.output(x)\n",
        "        x = self.sigmoid(x)\n",
        "        return x"
      ]
    },
    {
      "cell_type": "markdown",
      "metadata": {
        "id": "TIY7htiN1r_h"
      },
      "source": [
        "When we define a logistic regressor by instantiating the class `LR_compact`, we can access the weights and the bias as `self.output.weight` and `self.output.bias`"
      ]
    },
    {
      "cell_type": "markdown",
      "metadata": {
        "id": "Tll_IRmq1r_h"
      },
      "source": [
        "### Evaluate the logistic regressor using our data\n",
        "\n",
        "Lets go back to the database we just preprocessed above. Consider now the first 10 datapoints in the training set."
      ]
    },
    {
      "cell_type": "code",
      "execution_count": 41,
      "metadata": {
        "id": "Hlb46-Hx1r_h"
      },
      "outputs": [],
      "source": [
        "x = np.array(train_data[:10]).astype(np.float32) # train_data is a Dataframe, can easily be converted to a numpy array\n",
        "y = x[:, -1]    # Last Column is the class\n",
        "x = x[:, :-1]   # We remove the last column from x"
      ]
    },
    {
      "cell_type": "code",
      "execution_count": 42,
      "metadata": {
        "id": "N9EUHlko1r_i",
        "colab": {
          "base_uri": "https://localhost:8080/"
        },
        "outputId": "93b853fa-578c-4748-cf3e-3a30404e30e7"
      },
      "outputs": [
        {
          "output_type": "stream",
          "name": "stdout",
          "text": [
            "The dimensions of x are (10,8)\n",
            "\n",
            "[[ 1.300525    2.2856638   2.2764957   2.4554093   2.2863305   2.6582384\n",
            "   1.3306657   0.8670005 ]\n",
            " [-1.2125387  -0.7003592  -0.7478111  -0.6429514  -0.55274856 -1.010787\n",
            "  -0.60810614 -0.3386047 ]\n",
            " [ 0.22349761 -0.7003592  -0.7478111  -0.6429514  -0.55274856 -0.60311747\n",
            "  -0.2849775  -0.3386047 ]\n",
            " [ 0.22349761 -0.7003592  -0.41177702 -0.6429514  -0.55274856 -1.010787\n",
            "  -0.60810614 -0.3386047 ]\n",
            " [ 0.22349761 -0.7003592  -0.7478111   0.04557319  0.39361116 -0.195448\n",
            "  -0.2849775  -0.3386047 ]\n",
            " [ 2.018543   -0.03679854  0.93235934 -0.29868913 -0.07956871  0.21222152\n",
            "   2.3000517   0.26419792]\n",
            " [ 0.22349761 -0.7003592  -0.7478111  -0.6429514  -0.55274856 -0.195448\n",
            "  -0.60810614 -0.3386047 ]\n",
            " [-0.8535297  -0.7003592  -0.7478111  -0.6429514  -0.55274856 -1.010787\n",
            "  -0.60810614 -0.3386047 ]\n",
            " [ 1.300525    1.6221032   1.6044276  -0.6429514  -0.55274856  1.0275605\n",
            "   2.3000517  -0.3386047 ]\n",
            " [-1.2125387  -0.7003592  -0.7478111  -0.6429514  -0.55274856 -0.195448\n",
            "  -0.60810614 -0.3386047 ]]\n"
          ]
        }
      ],
      "source": [
        "print(\"The dimensions of x are ({0},{1})\\n\".format(x.shape[0], x.shape[1]))\n",
        "\n",
        "print(x)"
      ]
    },
    {
      "cell_type": "markdown",
      "metadata": {
        "id": "H9CNjYrP1r_i"
      },
      "source": [
        "> **Exercise:** Instantiate the class `LR_compact` with the dimension of every data point in `x`"
      ]
    },
    {
      "cell_type": "code",
      "execution_count": 47,
      "metadata": {
        "id": "IWLXoOgO1r_i",
        "colab": {
          "base_uri": "https://localhost:8080/"
        },
        "outputId": "f1cabb00-f19b-446d-fac1-b8760bef2578"
      },
      "outputs": [
        {
          "output_type": "execute_result",
          "data": {
            "text/plain": [
              "Parameter containing:\n",
              "tensor([[-0.0415,  0.0389,  0.0962, -0.2771, -0.1199,  0.0138, -0.2017, -0.1544]],\n",
              "       requires_grad=True)"
            ]
          },
          "metadata": {},
          "execution_count": 47
        }
      ],
      "source": [
        "## YOUR CODE HERE\n",
        "clf = LR_compact(x.shape[1])"
      ]
    },
    {
      "cell_type": "markdown",
      "metadata": {
        "id": "DS6u62081r_i"
      },
      "source": [
        "> **Exercise:** Print the current parameters of the classifier (weight vector and bias)"
      ]
    },
    {
      "cell_type": "code",
      "execution_count": 48,
      "metadata": {
        "id": "tUXiRPPX1r_i",
        "colab": {
          "base_uri": "https://localhost:8080/"
        },
        "outputId": "8a00f5fe-6dac-4e7e-e632-54af254c069b"
      },
      "outputs": [
        {
          "output_type": "stream",
          "name": "stdout",
          "text": [
            "Parameter containing:\n",
            "tensor([[-0.0415,  0.0389,  0.0962, -0.2771, -0.1199,  0.0138, -0.2017, -0.1544]],\n",
            "       requires_grad=True)\n",
            "Parameter containing:\n",
            "tensor([0.1188], requires_grad=True)\n"
          ]
        }
      ],
      "source": [
        "## YOUR CODE HERE\n",
        "print(clf.output.weight)\n",
        "print(clf.output.bias)"
      ]
    },
    {
      "cell_type": "markdown",
      "metadata": {
        "id": "_Xn4TLlD1r_i"
      },
      "source": [
        "To evaluate the logistic regressor output for the data in `x`, we make use of the class `forward` method. Do not forget to feed the function with a **torch tensor**."
      ]
    },
    {
      "cell_type": "code",
      "execution_count": 49,
      "metadata": {
        "id": "NxmzCBkV1r_j"
      },
      "outputs": [],
      "source": [
        "output = clf.forward(torch.tensor(x))"
      ]
    },
    {
      "cell_type": "code",
      "execution_count": 50,
      "metadata": {
        "id": "5VvZEGbX1r_j",
        "scrolled": false,
        "colab": {
          "base_uri": "https://localhost:8080/"
        },
        "outputId": "d00a3d0d-84fb-4541-a0e3-100beda33c15"
      },
      "outputs": [
        {
          "output_type": "stream",
          "name": "stdout",
          "text": [
            "tensor([[0.2794],\n",
            "        [0.6166],\n",
            "        [0.5881],\n",
            "        [0.6102],\n",
            "        [0.5144],\n",
            "        [0.4289],\n",
            "        [0.6051],\n",
            "        [0.6131],\n",
            "        [0.5323],\n",
            "        [0.6193]], grad_fn=<SigmoidBackward0>)\n"
          ]
        }
      ],
      "source": [
        "print(output)"
      ]
    },
    {
      "cell_type": "markdown",
      "metadata": {
        "id": "KJckzGzQ1r_j"
      },
      "source": [
        "Above we can see the operation that created `output`, a sigmoid operation `SigmoidBackward`. The autograd module keeps track of **all operations that affect Parameter tensors** and use such information to calculate the gradient for each one. In this way, it's able to calculate the gradients for a chain of operations, with respect to any one tensor.\n",
        "\n",
        "### Evaluating the binary cross entropy function using `nn.BCE()`\n",
        "\n",
        "Let's reduce the tensor `y` to a scalar value, the binary cross entropy. We will use the class `nn.BCE()`. See how to use the function in the [official documentation](https://pytorch.org/docs/stable/nn.html)."
      ]
    },
    {
      "cell_type": "code",
      "execution_count": 51,
      "metadata": {
        "id": "wn9DEtjV1r_j"
      },
      "outputs": [],
      "source": [
        "bce = nn.BCELoss()"
      ]
    },
    {
      "cell_type": "code",
      "execution_count": 52,
      "metadata": {
        "id": "-69RL5Ra1r_j",
        "colab": {
          "base_uri": "https://localhost:8080/"
        },
        "outputId": "2be337c6-e2b1-448a-a7e7-7cdb96348df2"
      },
      "outputs": [
        {
          "output_type": "stream",
          "name": "stdout",
          "text": [
            "tensor(0.9107, grad_fn=<BinaryCrossEntropyBackward0>)\n"
          ]
        }
      ],
      "source": [
        "loss = bce(output, torch.tensor(y).view(output.shape[0], 1))\n",
        "\n",
        "print(loss)"
      ]
    },
    {
      "cell_type": "markdown",
      "metadata": {
        "id": "zam03qFr1r_j"
      },
      "source": [
        "Above we can see the operation that created `loss`, a binary cross entropy `BinaryCrossEntropyBackward`.\n",
        "\n",
        "\n",
        "Now that we know how to calculate a loss, Torch provides a module, `autograd`, for automatically calculating the gradients of the loss w.r.t. the tensors. Autograd works by keeping track of operations performed on tensors, then going backwards through those operations, calculating gradients along the way.\n",
        "To make sure PyTorch keeps track of operations on a tensor and calculates the gradients, you need to set `requires_grad = True` on a tensor. You can do this at creation with the `requires_grad` keyword, or at any time with `x.requires_grad_(True)`. By default, all tensors created by instantiating the class `nn.Parameter` have `requires_grad = True`.\n",
        "\n",
        "> **Exercise**: Check that both the weights and the bias of the object have this flag set to `True`"
      ]
    },
    {
      "cell_type": "code",
      "execution_count": 68,
      "metadata": {
        "id": "FAn8eV_X1r_j",
        "colab": {
          "base_uri": "https://localhost:8080/"
        },
        "outputId": "f847ae78-27e1-4377-97b3-7861455b363a"
      },
      "outputs": [
        {
          "output_type": "stream",
          "name": "stdout",
          "text": [
            "True\n",
            "True\n"
          ]
        }
      ],
      "source": [
        "#YOUR CODE HERE\n",
        "print(clf.output.weight.requires_grad)\n",
        "print(clf.output.bias.requires_grad)"
      ]
    },
    {
      "cell_type": "markdown",
      "metadata": {
        "id": "DIa041Z41r_k"
      },
      "source": [
        "You can turn off gradients for a block of code with the `torch.no_grad()` content:\n",
        "```python\n",
        "x = torch.zeros(1, requires_grad=True)\n",
        ">>> with torch.no_grad():\n",
        "...     y = x * 2\n",
        ">>> y.requires_grad\n",
        "False\n",
        "```\n",
        "\n",
        "Also, you can turn on or off gradients altogether with `torch.set_grad_enabled(True|False)`. Turning off gradients is recommended for instance when you are just evaluating you network, i.e., when training is finished and only parameter evaluation is required.\n"
      ]
    },
    {
      "cell_type": "markdown",
      "metadata": {
        "id": "kC-Lie4k1r_k"
      },
      "source": [
        "### The `.backward()` operator\n",
        "\n",
        "\n",
        "The gradients are computed with respect to some variable `z` with `z.backward()`. This does a backward pass through the operations that created `z`. This means that when we calculate the loss and call `loss.backward()`, the gradients of the loss function w.r.t. the parameters are calculated. These gradients are used to update the weights with gradient descent.\n",
        "\n",
        "After calling  `loss.backward()` the gradient of `loss` w.r.t. to any tensor `x` can be accessed as `x.grad`\n",
        "\n",
        "\n",
        "> **Exercise**: Print the gradient of the loss function w.r.t. the model parameters for the `LR` object (or the `LR_compact`) before and after running `loss.backward()`."
      ]
    },
    {
      "cell_type": "code",
      "execution_count": 69,
      "metadata": {
        "id": "EfraUfI21r_k",
        "colab": {
          "base_uri": "https://localhost:8080/"
        },
        "outputId": "4b9a997c-fcac-4e16-e4b0-133fd413e5ea"
      },
      "outputs": [
        {
          "output_type": "stream",
          "name": "stdout",
          "text": [
            "None\n",
            "None\n",
            "tensor([[-0.4202, -0.5303, -0.5834, -0.3623, -0.3160, -0.5071, -0.5526, -0.2028]])\n",
            "tensor([0.2407])\n"
          ]
        }
      ],
      "source": [
        "\n",
        "# YOUR CODE HERE\n",
        "print(clf.output.weight.grad)\n",
        "print(clf.output.bias.grad)\n",
        "\n",
        "loss.backward()\n",
        "\n",
        "print(clf.output.weight.grad)\n",
        "print(clf.output.bias.grad)\n",
        "\n"
      ]
    },
    {
      "cell_type": "markdown",
      "metadata": {
        "id": "r3ci6zXK1r_k"
      },
      "source": [
        "> **Exercise**: Complete the following code, in which given the tensor $u$ (of size $10\\times1$), you have to evaluate the gradient of $y=u^T~u$ w.r.t. every component of $u$. Does it coincide with the analytical solution?"
      ]
    },
    {
      "cell_type": "code",
      "execution_count": 70,
      "metadata": {
        "id": "xtz71-b01r_k",
        "colab": {
          "base_uri": "https://localhost:8080/",
          "height": 488
        },
        "outputId": "0f7244db-8fa9-4d42-ee88-348c11d9f780"
      },
      "outputs": [
        {
          "output_type": "stream",
          "name": "stderr",
          "text": [
            "<ipython-input-70-8e3d6eff6fbe>:10: MatplotlibDeprecationWarning: The 'use_line_collection' parameter of stem() was deprecated in Matplotlib 3.6 and will be removed two minor releases later. If any parameter follows 'use_line_collection', they should be passed as keyword, not positionally.\n",
            "  plt.stem(u.grad.numpy(), label='Autograd', use_line_collection=True)\n"
          ]
        },
        {
          "output_type": "display_data",
          "data": {
            "text/plain": [
              "<Figure size 640x480 with 1 Axes>"
            ],
            "image/png": "[encoded data removed]"
          },
          "metadata": {
            "image/png": {
              "width": 546,
              "height": 413
            }
          }
        }
      ],
      "source": [
        "u = torch.randn(10, 1, requires_grad=True)\n",
        "\n",
        "#YOUR CODE HERE (2 lines of code)\n",
        "y = torch.matmul(u.view(1, 10), u)\n",
        "y.backward()\n",
        "#\n",
        "\n",
        "# Turn off gradients for validation, saves memory and computations\n",
        "with torch.no_grad():\n",
        "    plt.stem(u.grad.numpy(), label='Autograd', use_line_collection=True)\n",
        "    plt.plot(2*u.detach().numpy(), '-g', label='$2x$')\n",
        "    plt.grid()\n",
        "    plt.legend()"
      ]
    },
    {
      "cell_type": "markdown",
      "metadata": {
        "id": "3mzGdqVs1r_k"
      },
      "source": [
        "`.detach()` method constructs a new view on a tensor which is declared not to need gradients. You can see a nice example in this [link](http://www.bnikolic.co.uk/blog/pytorch-detach.html). Typically, we will use detach to export values to numpy to perform model evaluation. In Pytorch, you cannot call the `.numpy()` operators in Tensor that has `require_grad=True`.\n",
        "\n",
        "An important aspects to implement Gradient Descent Loops is that if call again the `.backward()` operator, then **gradients are accumulated** in the variable `x.grad`.\n",
        "\n",
        "If we recompute `y`, we can check that gradients are accumulated by calling again `y.backward()`"
      ]
    },
    {
      "cell_type": "code",
      "execution_count": 73,
      "metadata": {
        "id": "y2O6xmEY1r_k",
        "colab": {
          "base_uri": "https://localhost:8080/",
          "height": 506
        },
        "outputId": "89be44aa-7ce7-488e-8fb3-180c10431bd1"
      },
      "outputs": [
        {
          "output_type": "stream",
          "name": "stderr",
          "text": [
            "<ipython-input-73-b2378fe98fc5>:4: MatplotlibDeprecationWarning: The 'use_line_collection' parameter of stem() was deprecated in Matplotlib 3.6 and will be removed two minor releases later. If any parameter follows 'use_line_collection', they should be passed as keyword, not positionally.\n",
            "  plt.stem(u.grad.numpy(), label='Autograd', use_line_collection=True)\n"
          ]
        },
        {
          "output_type": "execute_result",
          "data": {
            "text/plain": [
              "<matplotlib.legend.Legend at 0x796ff7dbb3a0>"
            ]
          },
          "metadata": {},
          "execution_count": 73
        },
        {
          "output_type": "display_data",
          "data": {
            "text/plain": [
              "<Figure size 640x480 with 1 Axes>"
            ],
            "image/png": "[encoded data removed]"
          },
          "metadata": {
            "image/png": {
              "width": 555,
              "height": 413
            }
          }
        }
      ],
      "source": [
        "y = torch.matmul(u.view(1, 10), u)\n",
        "y.backward()\n",
        "\n",
        "plt.stem(u.grad.numpy(), label='Autograd', use_line_collection=True)\n",
        "plt.plot(2*u.detach().numpy(), '-g', label='$2x$')\n",
        "plt.plot(4*u.detach().numpy(), '-b', label='$4x$')\n",
        "plt.grid()\n",
        "plt.legend()"
      ]
    },
    {
      "cell_type": "markdown",
      "metadata": {
        "id": "QV91kxX31r_l"
      },
      "source": [
        "To **reset gradients**, Pytorch optimizers provide us with the appropiate method."
      ]
    },
    {
      "cell_type": "markdown",
      "metadata": {
        "id": "JqHyhCf11r_l"
      },
      "source": [
        "## Part IV. Train the logistic regressor with the complete dataset\n",
        "\n",
        "When we create a network with PyTorch, all of the parameters are initialized with `requires_grad = True`. This means that when we calculate the loss and call `loss.backward()`, the gradients for the parameters are calculated. These gradients are used to update the weights with gradient descent. Below you can see an example of calculating the gradients using a backward pass."
      ]
    },
    {
      "cell_type": "code",
      "execution_count": 74,
      "metadata": {
        "id": "ndl4k2Sp1r_l"
      },
      "outputs": [],
      "source": [
        "# We use all data points\n",
        "x = np.array(train_data).astype(np.float32)\n",
        "# Last Column is the class\n",
        "y = x[:, -1]\n",
        "x = x[:, :-1]"
      ]
    },
    {
      "cell_type": "code",
      "execution_count": 75,
      "metadata": {
        "id": "yMPBDj9j1r_l",
        "colab": {
          "base_uri": "https://localhost:8080/"
        },
        "outputId": "e759f98f-7454-4d87-955f-1c74c20ae3a8"
      },
      "outputs": [
        {
          "output_type": "stream",
          "name": "stdout",
          "text": [
            "torch.Size([1, 8])\n"
          ]
        }
      ],
      "source": [
        "output = clf.forward(torch.tensor(x))\n",
        "\n",
        "loss = bce(output,torch.tensor(y).view(output.shape[0],1))\n",
        "\n",
        "loss.backward()\n",
        "\n",
        "print(clf.output.weight.grad.shape)"
      ]
    },
    {
      "cell_type": "markdown",
      "metadata": {
        "id": "O9IVrEgQ1r_l"
      },
      "source": [
        "### Defining an optimizer\n",
        "\n",
        "There's one last piece we need to start training, an optimizer that we'll use to update the weights with the gradients. We get these from PyTorch's [`optim` package](https://pytorch.org/docs/stable/optim.html). For example we can use stochastic gradient descent with `optim.SGD`. You can see how to define an optimizer below.\n",
        "\n",
        "With the following code, we can define the optimizer:\n"
      ]
    },
    {
      "cell_type": "code",
      "execution_count": 76,
      "metadata": {
        "id": "Argl9DFs1r_l"
      },
      "outputs": [],
      "source": [
        "from torch import optim\n",
        "\n",
        "# Optimizers require the parameters to optimize and a learning rate\n",
        "optimizer = optim.SGD(clf.parameters(), lr=0.01)"
      ]
    },
    {
      "cell_type": "markdown",
      "metadata": {
        "id": "dYm6wrF31r_l"
      },
      "source": [
        "To perform a SGD iteration, we simply call `optmizer.step()`\n",
        "\n",
        "\n",
        "By the way, `my_classifier.parameters()` returns a [generator object](https://realpython.com/introduction-to-python-generators/). Namely, a list with all the parameters that you read one by one or iterate through a for loop."
      ]
    },
    {
      "cell_type": "code",
      "execution_count": 77,
      "metadata": {
        "id": "7PEipYkR1r_m",
        "colab": {
          "base_uri": "https://localhost:8080/"
        },
        "outputId": "5ad852fb-43ab-4f2f-e4d2-97b404a82705"
      },
      "outputs": [
        {
          "output_type": "stream",
          "name": "stdout",
          "text": [
            "<class 'generator'>\n",
            "Parameter containing:\n",
            "tensor([[-0.0415,  0.0389,  0.0962, -0.2771, -0.1199,  0.0138, -0.2017, -0.1544]],\n",
            "       requires_grad=True)\n",
            "Parameter containing:\n",
            "tensor([0.1188], requires_grad=True)\n"
          ]
        }
      ],
      "source": [
        "params = clf.parameters()\n",
        "\n",
        "print(type(params))\n",
        "# We print the first set of parameters (weight vector)\n",
        "print(next(params))\n",
        "# We print the second set of parameters (the bias)\n",
        "print(next(params))"
      ]
    },
    {
      "cell_type": "markdown",
      "metadata": {
        "id": "gj0h4QLB1r_m"
      },
      "source": [
        "If we call again the method `next()` over params, Python will yield a `StopIteration` error:"
      ]
    },
    {
      "cell_type": "code",
      "execution_count": 78,
      "metadata": {
        "id": "xvNHcQfZ1r_m",
        "colab": {
          "base_uri": "https://localhost:8080/",
          "height": 170
        },
        "outputId": "3e617e9d-176e-4b1f-b064-6b4245f44e5c"
      },
      "outputs": [
        {
          "output_type": "error",
          "ename": "StopIteration",
          "evalue": "",
          "traceback": [
            "\u001b[0;31m---------------------------------------------------------------------------\u001b[0m",
            "\u001b[0;31mStopIteration\u001b[0m                             Traceback (most recent call last)",
            "\u001b[0;32m<ipython-input-78-419f69b3edd6>\u001b[0m in \u001b[0;36m<cell line: 1>\u001b[0;34m()\u001b[0m\n\u001b[0;32m----> 1\u001b[0;31m \u001b[0mprint\u001b[0m\u001b[0;34m(\u001b[0m\u001b[0mnext\u001b[0m\u001b[0;34m(\u001b[0m\u001b[0mparams\u001b[0m\u001b[0;34m)\u001b[0m\u001b[0;34m)\u001b[0m\u001b[0;34m\u001b[0m\u001b[0;34m\u001b[0m\u001b[0m\n\u001b[0m",
            "\u001b[0;31mStopIteration\u001b[0m: "
          ]
        }
      ],
      "source": [
        "print(next(params))"
      ]
    },
    {
      "cell_type": "markdown",
      "metadata": {
        "id": "5i2-LWW11r_m"
      },
      "source": [
        "## Creating a class with both the network and a training method\n",
        "\n",
        "Object Oriented Programming (OOP) in Python is a versatil and convenient method to implement our own software and create reusable sofware. Indeed, along this whole notebook, we have been using classes all the time.\n",
        "\n",
        "[Here](https://www.programiz.com/python-programming/object-oriented-programming) you can find a short introduction to OOP in Python.\n",
        "\n",
        "With the following code, we will define a class that incorporates the definition of the logistic regression network and **a method to train the parameters**. Go carefully through the code and try to understand it line by line."
      ]
    },
    {
      "cell_type": "code",
      "execution_count": 80,
      "metadata": {
        "id": "DHBgDWCj1r_m"
      },
      "outputs": [],
      "source": [
        "''' This class inherits from the LR_compact class. So it has the same atributes\n",
        "and methods, and some others that we will add.\n",
        "'''\n",
        "class LR_extended(LR_compact):\n",
        "\n",
        "    def __init__(self, dimx, sgd_iterations=1000, lr=0.001, print_every=200):\n",
        "\n",
        "        super().__init__(dimx)  #To initialize LR_compact!\n",
        "\n",
        "        self.lr = lr #Learning Rate\n",
        "\n",
        "        self.optim = optim.SGD(self.parameters(), self.lr)\n",
        "\n",
        "        self.sgd_iterations = sgd_iterations #SGD steps\n",
        "\n",
        "        self.criterion = nn.BCELoss()\n",
        "\n",
        "        # A list to store the loss evolution along training\n",
        "\n",
        "        self.loss_during_training = []\n",
        "\n",
        "        self.print_every = print_every\n",
        "\n",
        "    def train(self,x,y):\n",
        "\n",
        "        # SGD Loop\n",
        "\n",
        "        for iter in range(int(self.sgd_iterations)):\n",
        "\n",
        "            self.optim.zero_grad()  #TO RESET GRADIENTS!\n",
        "\n",
        "            out = self.forward(x)\n",
        "\n",
        "            loss = self.criterion(out, y.view(x.shape[0], 1))\n",
        "\n",
        "            self.loss_during_training.append(loss.item())\n",
        "\n",
        "            loss.backward()\n",
        "\n",
        "            self.optim.step()\n",
        "\n",
        "            if(iter % self.print_every == 0): # Every 1000 iterations\n",
        "\n",
        "                print(\"Training loss after %d iterations: %f\"\n",
        "                      %(iter,self.loss_during_training[-1]))\n"
      ]
    },
    {
      "cell_type": "markdown",
      "metadata": {
        "id": "hc4Alx0H1r_m"
      },
      "source": [
        "Lets instantiate the class and train the logistic regressor. See how compact and easy is now (OOP is great!)."
      ]
    },
    {
      "cell_type": "code",
      "execution_count": 81,
      "metadata": {
        "id": "Vq-nmrYU1r_m",
        "colab": {
          "base_uri": "https://localhost:8080/"
        },
        "outputId": "a1c397dd-10df-4252-a851-d6847a324d1b"
      },
      "outputs": [
        {
          "output_type": "stream",
          "name": "stdout",
          "text": [
            "Training loss after 0 iterations: 1.082370\n",
            "Training loss after 200 iterations: 0.799712\n",
            "Training loss after 400 iterations: 0.622454\n",
            "Training loss after 600 iterations: 0.510612\n",
            "Training loss after 800 iterations: 0.435862\n",
            "Training loss after 1000 iterations: 0.382864\n",
            "Training loss after 1200 iterations: 0.343487\n",
            "Training loss after 1400 iterations: 0.313163\n",
            "Training loss after 1600 iterations: 0.289147\n",
            "Training loss after 1800 iterations: 0.269696\n",
            "Training loss after 2000 iterations: 0.253650\n",
            "Training loss after 2200 iterations: 0.240208\n",
            "Training loss after 2400 iterations: 0.228799\n",
            "Training loss after 2600 iterations: 0.219007\n",
            "Training loss after 2800 iterations: 0.210520\n"
          ]
        }
      ],
      "source": [
        "my_LR = LR_extended(x.shape[1], sgd_iterations=3000, lr=0.001)\n",
        "\n",
        "my_LR.train(torch.tensor(x), torch.tensor(y))"
      ]
    },
    {
      "cell_type": "markdown",
      "metadata": {
        "id": "PesJPfXW1r_n"
      },
      "source": [
        "Note that if you believe that training isn't finished yet, you can simply call again the `.train()` method."
      ]
    },
    {
      "cell_type": "code",
      "execution_count": 82,
      "metadata": {
        "id": "jxQRpTRL1r_n",
        "colab": {
          "base_uri": "https://localhost:8080/"
        },
        "outputId": "cfeeca56-1256-4248-bece-94459fa8deb0"
      },
      "outputs": [
        {
          "output_type": "stream",
          "name": "stdout",
          "text": [
            "Training loss after 0 iterations: 0.203101\n",
            "Training loss after 200 iterations: 0.196566\n",
            "Training loss after 400 iterations: 0.190769\n",
            "Training loss after 600 iterations: 0.185597\n",
            "Training loss after 800 iterations: 0.180956\n",
            "Training loss after 1000 iterations: 0.176772\n",
            "Training loss after 1200 iterations: 0.172981\n",
            "Training loss after 1400 iterations: 0.169532\n",
            "Training loss after 1600 iterations: 0.166383\n",
            "Training loss after 1800 iterations: 0.163497\n",
            "Training loss after 2000 iterations: 0.160843\n",
            "Training loss after 2200 iterations: 0.158396\n",
            "Training loss after 2400 iterations: 0.156132\n",
            "Training loss after 2600 iterations: 0.154033\n",
            "Training loss after 2800 iterations: 0.152082\n"
          ]
        }
      ],
      "source": [
        "my_LR.train(torch.tensor(x), torch.tensor(y))"
      ]
    },
    {
      "cell_type": "markdown",
      "metadata": {
        "id": "c_CdoIc21r_n"
      },
      "source": [
        "> **Exercise**: Train from scratch the logistic regressor for 20.000 iterations and plot the evolution of the binary cross entropy loss."
      ]
    },
    {
      "cell_type": "code",
      "execution_count": 83,
      "metadata": {
        "id": "5uQ8chTj1r_n",
        "colab": {
          "base_uri": "https://localhost:8080/"
        },
        "outputId": "dd42cc9e-53d5-4d6d-f7e2-6db5f53ef221"
      },
      "outputs": [
        {
          "output_type": "stream",
          "name": "stdout",
          "text": [
            "Training loss after 0 iterations: 0.970672\n",
            "Training loss after 200 iterations: 0.728665\n",
            "Training loss after 400 iterations: 0.577458\n",
            "Training loss after 600 iterations: 0.480379\n",
            "Training loss after 800 iterations: 0.414214\n",
            "Training loss after 1000 iterations: 0.366571\n",
            "Training loss after 1200 iterations: 0.330764\n",
            "Training loss after 1400 iterations: 0.302949\n",
            "Training loss after 1600 iterations: 0.280772\n",
            "Training loss after 1800 iterations: 0.262715\n",
            "Training loss after 2000 iterations: 0.247755\n",
            "Training loss after 2200 iterations: 0.235177\n",
            "Training loss after 2400 iterations: 0.224470\n",
            "Training loss after 2600 iterations: 0.215255\n",
            "Training loss after 2800 iterations: 0.207251\n",
            "Training loss after 3000 iterations: 0.200240\n",
            "Training loss after 3200 iterations: 0.194053\n",
            "Training loss after 3400 iterations: 0.188557\n",
            "Training loss after 3600 iterations: 0.183646\n",
            "Training loss after 3800 iterations: 0.179234\n",
            "Training loss after 4000 iterations: 0.175251\n",
            "Training loss after 4200 iterations: 0.171639\n",
            "Training loss after 4400 iterations: 0.168350\n",
            "Training loss after 4600 iterations: 0.165343\n",
            "Training loss after 4800 iterations: 0.162586\n",
            "Training loss after 5000 iterations: 0.160049\n",
            "Training loss after 5200 iterations: 0.157708\n",
            "Training loss after 5400 iterations: 0.155541\n",
            "Training loss after 5600 iterations: 0.153531\n",
            "Training loss after 5800 iterations: 0.151660\n",
            "Training loss after 6000 iterations: 0.149917\n",
            "Training loss after 6200 iterations: 0.148288\n",
            "Training loss after 6400 iterations: 0.146763\n",
            "Training loss after 6600 iterations: 0.145333\n",
            "Training loss after 6800 iterations: 0.143989\n",
            "Training loss after 7000 iterations: 0.142724\n",
            "Training loss after 7200 iterations: 0.141531\n",
            "Training loss after 7400 iterations: 0.140405\n",
            "Training loss after 7600 iterations: 0.139340\n",
            "Training loss after 7800 iterations: 0.138331\n",
            "Training loss after 8000 iterations: 0.137375\n",
            "Training loss after 8200 iterations: 0.136467\n",
            "Training loss after 8400 iterations: 0.135604\n",
            "Training loss after 8600 iterations: 0.134782\n",
            "Training loss after 8800 iterations: 0.134000\n",
            "Training loss after 9000 iterations: 0.133253\n",
            "Training loss after 9200 iterations: 0.132541\n",
            "Training loss after 9400 iterations: 0.131859\n",
            "Training loss after 9600 iterations: 0.131208\n",
            "Training loss after 9800 iterations: 0.130584\n",
            "Training loss after 10000 iterations: 0.129986\n",
            "Training loss after 10200 iterations: 0.129412\n",
            "Training loss after 10400 iterations: 0.128862\n",
            "Training loss after 10600 iterations: 0.128333\n",
            "Training loss after 10800 iterations: 0.127824\n",
            "Training loss after 11000 iterations: 0.127335\n",
            "Training loss after 11200 iterations: 0.126864\n",
            "Training loss after 11400 iterations: 0.126410\n",
            "Training loss after 11600 iterations: 0.125972\n",
            "Training loss after 11800 iterations: 0.125550\n",
            "Training loss after 12000 iterations: 0.125142\n",
            "Training loss after 12200 iterations: 0.124748\n",
            "Training loss after 12400 iterations: 0.124367\n",
            "Training loss after 12600 iterations: 0.123999\n",
            "Training loss after 12800 iterations: 0.123643\n",
            "Training loss after 13000 iterations: 0.123298\n",
            "Training loss after 13200 iterations: 0.122964\n",
            "Training loss after 13400 iterations: 0.122640\n",
            "Training loss after 13600 iterations: 0.122326\n",
            "Training loss after 13800 iterations: 0.122021\n",
            "Training loss after 14000 iterations: 0.121725\n",
            "Training loss after 14200 iterations: 0.121438\n",
            "Training loss after 14400 iterations: 0.121159\n",
            "Training loss after 14600 iterations: 0.120888\n",
            "Training loss after 14800 iterations: 0.120624\n",
            "Training loss after 15000 iterations: 0.120367\n",
            "Training loss after 15200 iterations: 0.120118\n",
            "Training loss after 15400 iterations: 0.119875\n",
            "Training loss after 15600 iterations: 0.119638\n",
            "Training loss after 15800 iterations: 0.119407\n",
            "Training loss after 16000 iterations: 0.119182\n",
            "Training loss after 16200 iterations: 0.118963\n",
            "Training loss after 16400 iterations: 0.118749\n",
            "Training loss after 16600 iterations: 0.118541\n",
            "Training loss after 16800 iterations: 0.118337\n",
            "Training loss after 17000 iterations: 0.118138\n",
            "Training loss after 17200 iterations: 0.117944\n",
            "Training loss after 17400 iterations: 0.117754\n",
            "Training loss after 17600 iterations: 0.117569\n",
            "Training loss after 17800 iterations: 0.117387\n",
            "Training loss after 18000 iterations: 0.117210\n",
            "Training loss after 18200 iterations: 0.117037\n",
            "Training loss after 18400 iterations: 0.116867\n",
            "Training loss after 18600 iterations: 0.116701\n",
            "Training loss after 18800 iterations: 0.116538\n",
            "Training loss after 19000 iterations: 0.116379\n",
            "Training loss after 19200 iterations: 0.116223\n",
            "Training loss after 19400 iterations: 0.116071\n",
            "Training loss after 19600 iterations: 0.115921\n",
            "Training loss after 19800 iterations: 0.115774\n"
          ]
        }
      ],
      "source": [
        "# YOUR CODE HERE\n",
        "\n",
        "my_LR = LR_extended(x.shape[1], sgd_iterations=20000, lr=0.001)\n",
        "\n",
        "my_LR.train(torch.tensor(x), torch.tensor(y))"
      ]
    },
    {
      "cell_type": "markdown",
      "metadata": {
        "id": "ZehFIM671r_n"
      },
      "source": [
        "> **Exercise**: Print all model parameters (e.g. weights and bias)"
      ]
    },
    {
      "cell_type": "code",
      "execution_count": 96,
      "metadata": {
        "id": "9z5gub5s1r_n",
        "colab": {
          "base_uri": "https://localhost:8080/"
        },
        "outputId": "7a5d267b-0121-4594-c813-62ae0eccf3dc"
      },
      "outputs": [
        {
          "output_type": "stream",
          "name": "stdout",
          "text": [
            "<generator object Module.parameters at 0x796ff632ec70>\n",
            "Weights: Parameter containing:\n",
            "tensor([[0.9571, 1.0324, 0.6451, 0.5624, 0.3394, 0.8638, 0.5493, 0.3222]],\n",
            "       requires_grad=True)\n",
            "Bias: Parameter containing:\n",
            "tensor([-0.5903], requires_grad=True)\n"
          ]
        }
      ],
      "source": [
        "# YOUR CODE HERE\n",
        "\n",
        "LR_params = my_LR.parameters()\n",
        "\n",
        "print(LR_params)\n",
        "\n",
        "print(\"Weights:\", next(LR_params))\n",
        "# We print the second set of parameters (the bias)\n",
        "print(\"Bias:\", next(LR_params))"
      ]
    },
    {
      "cell_type": "markdown",
      "metadata": {
        "id": "br5qhm4b1r_n"
      },
      "source": [
        "#### Evaluating the model in the test set\n",
        "\n",
        "Now that we have trained our logistic regressor, it is time to compare its performance in both the training and the test sets.\n",
        "\n",
        "> **Exercise**: Compute the logistic regressor output for both the training data and the test data."
      ]
    },
    {
      "cell_type": "code",
      "execution_count": 108,
      "metadata": {
        "id": "grNuF2i_1r_n"
      },
      "outputs": [],
      "source": [
        "out_train = my_LR.forward(torch.tensor(x))\n",
        "\n",
        "xtest = np.array(test_data).astype(np.float32)\n",
        "ytest = xtest[:, -1]\n",
        "xtest = xtest[:, :-1]\n",
        "\n",
        "out_test = my_LR.forward(torch.tensor(xtest))"
      ]
    },
    {
      "cell_type": "markdown",
      "metadata": {
        "id": "2tClWc0i1r_o"
      },
      "source": [
        "Recall that the logistic regressor output is an estimated class probability. Assuming we put the threshold at a probability of 0.5, lets count the number of correct predictions in both sets."
      ]
    },
    {
      "cell_type": "code",
      "execution_count": 109,
      "metadata": {
        "id": "4qckPM-b1r_o",
        "colab": {
          "base_uri": "https://localhost:8080/"
        },
        "outputId": "11648533-f049-4ceb-a8cc-9afd70edc1ae"
      },
      "outputs": [
        {
          "output_type": "stream",
          "name": "stdout",
          "text": [
            "0.9570661896243292\n",
            "0.9714285714285714\n"
          ]
        }
      ],
      "source": [
        "accuracy_rate_train = np.sum((out_train.detach().numpy()>=0.5)\n",
        "                          == y.reshape([-1, 1]))/y.shape[0]\n",
        "\n",
        "accuracy_rate_test = np.sum((out_test.detach().numpy()>=0.5)\n",
        "                         == ytest.reshape([-1, 1]))/ytest.shape[0]\n",
        "\n",
        "print(accuracy_rate_train)\n",
        "\n",
        "print(accuracy_rate_test)"
      ]
    },
    {
      "cell_type": "markdown",
      "metadata": {
        "id": "j5Y1OzTt1r_o"
      },
      "source": [
        "## Part V. Training a Logistic Regressor with mini-batch stochastic gradient descent\n",
        "\n",
        "Finally, we are going to implement an scalable version of the gradient descent training implemented above. At every iteration, instead of evaluating the gradient using all data points, a small minibatch of data will be used.\n",
        "\n",
        "To make sure that all training data points are evenly used to evaluate the gradient, we will use a short iterating function. Instead of predefining a certain number of SGD iterations, we define a certain number of **epochs**. After every epoch **all datapoints** have been used in the optimizer once.\n",
        "\n",
        "\n",
        "> **Exercise**: Complete the code for the following class"
      ]
    },
    {
      "cell_type": "code",
      "execution_count": 115,
      "metadata": {
        "id": "k21sLkZA1r_o"
      },
      "outputs": [],
      "source": [
        "''' This class inherits from the LR_compact class. So it has the same atributes\n",
        "and methods, and some others that we will add.\n",
        "'''\n",
        "class LR_stochastic(LR_compact):\n",
        "\n",
        "    def __init__(self, dimx, num_train_data,\n",
        "                 epochs=100, lr=0.001, batch_size=50, print_every=20):\n",
        "\n",
        "        super().__init__(dimx)  #To initialize LR2!\n",
        "\n",
        "        self.lr = lr #Learning Rate\n",
        "\n",
        "        self.optim = optim.SGD(self.parameters(), self.lr)\n",
        "\n",
        "        self.epochs = epochs\n",
        "\n",
        "        self.print_every = print_every  # Print loss every\n",
        "\n",
        "        self.criterion = nn.BCELoss()\n",
        "\n",
        "        # A list to store the loss evolution along training\n",
        "\n",
        "        self.loss_during_training = []\n",
        "\n",
        "        self.batch_size = batch_size\n",
        "\n",
        "        self.num_train = num_train_data\n",
        "\n",
        "        self.num_batchs = np.floor(self.num_train/self.batch_size)\n",
        "\n",
        "    def accuracy_rate(self, x, y):\n",
        "\n",
        "        with torch.no_grad():\n",
        "\n",
        "            out = self.forward(x)\n",
        "\n",
        "            accuracy_rate = np.sum((out.detach().numpy()>=0.5)== y.reshape([-1,1]))/y.shape[0]\n",
        "\n",
        "        return accuracy_rate\n",
        "\n",
        "    def train(self, x, y):\n",
        "\n",
        "        # SGD Loop\n",
        "\n",
        "        for e in range(int(self.epochs)):\n",
        "\n",
        "            # Random data permutation at each epoch\n",
        "\n",
        "            idx = np.random.permutation(self.num_train)\n",
        "\n",
        "            running_loss = 0.\n",
        "\n",
        "            for i in range(int(self.num_batchs)):\n",
        "\n",
        "                self.optim.zero_grad()  #TO RESET GRADIENTS!\n",
        "\n",
        "                # Indexes of the datapoints that enter the batch\n",
        "\n",
        "                idx_batch = idx[i*self.batch_size:(i+1)*self.batch_size]\n",
        "\n",
        "                out = self.forward(x[idx_batch,:])\n",
        "\n",
        "                loss = self.criterion(out, y[idx_batch].view(self.batch_size, 1))\n",
        "\n",
        "                running_loss += loss.item()\n",
        "\n",
        "                #YOUR CODE HERE. Compute gradients\n",
        "                loss.backward()\n",
        "\n",
        "                #YOUR CODE HERE. Perform one SGD step\n",
        "                self.optim.step()\n",
        "\n",
        "            self.loss_during_training.append(running_loss/self.num_batchs)\n",
        "\n",
        "            if(e % self.print_every == 0):\n",
        "\n",
        "                print(\"Training loss after %d epochs: %f\"\n",
        "                      %(e,self.loss_during_training[-1]))\n"
      ]
    },
    {
      "cell_type": "markdown",
      "metadata": {
        "id": "UPbsTydP1r_o"
      },
      "source": [
        "> **Exercise**: Train a logistic regressor with minibatch-stochastic gradient descent with different batch sizes (10,20,50 and 100) and plot the evolution of the loss function for all cases in the same plot.\n",
        "Also, compare with the evolution of the loss function when all data is used. Note that when all datapoints are used, every GD iteration correspond to a **full epoch**. Explain the results.\n",
        ">\n",
        "> Finally, observe if in all cases the parameters of the models (weights and biases) are similar."
      ]
    },
    {
      "cell_type": "code",
      "execution_count": 116,
      "metadata": {
        "id": "F1tqjCYj1r_o",
        "colab": {
          "base_uri": "https://localhost:8080/",
          "height": 525
        },
        "outputId": "f58c338e-b5e8-4461-d25c-47be3d77787e"
      },
      "outputs": [
        {
          "output_type": "stream",
          "name": "stdout",
          "text": [
            "Training loss after 0 epochs: 1.131597\n",
            "Training loss after 250 epochs: 0.214172\n"
          ]
        },
        {
          "output_type": "execute_result",
          "data": {
            "text/plain": [
              "Text(0, 0.5, 'Loss')"
            ]
          },
          "metadata": {},
          "execution_count": 116
        },
        {
          "output_type": "display_data",
          "data": {
            "text/plain": [
              "<Figure size 640x480 with 1 Axes>"
            ],
            "image/png": "[encoded data removed]"
          },
          "metadata": {
            "image/png": {
              "width": 567,
              "height": 432
            }
          }
        }
      ],
      "source": [
        "#YOUR CODE HERE\n",
        "my_LR = LR_stochastic(x.shape[1],num_train_data=x.shape[0],epochs=500,\n",
        "                              batch_size=50,lr=0.001,print_every=250)\n",
        "\n",
        "my_LR.train(torch.tensor(x),torch.tensor(y))\n",
        "\n",
        "plt.plot(my_LR.loss_during_training,'-b',label='BCE Loss')\n",
        "plt.xlabel('Iterations')\n",
        "plt.ylabel('Loss')\n"
      ]
    },
    {
      "cell_type": "markdown",
      "metadata": {
        "id": "5JV8Ihd71r_o"
      },
      "source": [
        "> **Exercise**: Add a method to the above class that evaluates the classification accuracy rate for a given set of data points and the corresponding labels. Hint: we have done this previously in the notebook, you only  have to encapsulate it in the class as a new method.\n",
        ">\n",
        ">Recall to disable gradient computation for these computations (it saves time and operations!)\n",
        ">\n",
        "> Then, train the model, plot the loss function per epoch and print the accuracy rate."
      ]
    },
    {
      "cell_type": "code",
      "execution_count": 117,
      "metadata": {
        "id": "uz9MO8NT1r_o",
        "colab": {
          "base_uri": "https://localhost:8080/"
        },
        "outputId": "7187028e-bf4d-4b01-db99-36eea8f001e5"
      },
      "outputs": [
        {
          "output_type": "execute_result",
          "data": {
            "text/plain": [
              "0.9516994633273703"
            ]
          },
          "metadata": {},
          "execution_count": 117
        }
      ],
      "source": [
        "#YOUR CODE HERE\n",
        "\n",
        "my_LR.accuracy_rate(torch.tensor(x), y)"
      ]
    },
    {
      "cell_type": "code",
      "execution_count": null,
      "metadata": {
        "id": "D4oHIslL1r_p"
      },
      "outputs": [],
      "source": []
    },
    {
      "cell_type": "markdown",
      "metadata": {
        "id": "xSpq3sHu1r_p"
      },
      "source": [
        "## Part VI. Regularize the model weights"
      ]
    },
    {
      "cell_type": "markdown",
      "metadata": {
        "id": "h1tThfPm1r_p"
      },
      "source": [
        "> **Exercise**: Implement a class for regularized logistic regression, in which you penalize the $L_2$ norm of the weights (do not penalize for the bias). Use a pre-defined regularization parameter that you specify when instantiate the class.\n",
        ">\n",
        "> Recall that $L_2$ is simply the sum of the squared elements of a vector.  For a given tensor `u` you can get this\n",
        "> norm by calling `torch.norm(u)`, which returns the squared-root of the norm. The idea is that you add this norm to the loss function, with a regularization parameter $\\lambda$:\n",
        ">\n",
        "> $$\\mathcal{L}_{reg} = \\mathcal{L}_{BCE} + \\lambda ||\\mathbf{w}||^2_2$$\n",
        ">\n",
        "> Train the model with SGD and compare the train/test performance as you vary $\\lambda$. Hint: Since in this case the unregularized LR model performs really well on both train and test datasets, there is actually no need for   regularization. So do not expect much improvement, rather the contrary. We will reuse this code in future projects.\n",
        ">\n",
        "> Explain the differences you see when changing the value of $\\lambda$.\n",
        "\n"
      ]
    },
    {
      "cell_type": "code",
      "execution_count": null,
      "metadata": {
        "id": "tSvzXIfd1r_p"
      },
      "outputs": [],
      "source": [
        "#YOUR CODE HERE\n"
      ]
    },
    {
      "cell_type": "code",
      "execution_count": null,
      "metadata": {
        "id": "0HcSdhT21r_p"
      },
      "outputs": [],
      "source": []
    },
    {
      "cell_type": "code",
      "execution_count": null,
      "metadata": {
        "id": "wylWQoF11r_p"
      },
      "outputs": [],
      "source": []
    },
    {
      "cell_type": "code",
      "execution_count": null,
      "metadata": {
        "id": "X9xJq7m_1r_p"
      },
      "outputs": [],
      "source": []
    }
  ],
  "metadata": {
    "colab": {
      "provenance": [],
      "include_colab_link": true
    },
    "kernelspec": {
      "display_name": "Python 3",
      "language": "python",
      "name": "python3"
    },
    "language_info": {
      "codemirror_mode": {
        "name": "ipython",
        "version": 3
      },
      "file_extension": ".py",
      "mimetype": "text/x-python",
      "name": "python",
      "nbconvert_exporter": "python",
      "pygments_lexer": "ipython3",
      "version": "3.6.10"
    }
  },
  "nbformat": 4,
  "nbformat_minor": 0
}